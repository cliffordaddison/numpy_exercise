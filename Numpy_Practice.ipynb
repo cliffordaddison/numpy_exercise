{
 "cells": [
  {
   "cell_type": "code",
   "execution_count": 1,
   "id": "6b22a777",
   "metadata": {},
   "outputs": [],
   "source": [
    "import numpy as np"
   ]
  },
  {
   "cell_type": "code",
   "execution_count": 2,
   "id": "321e6fd3",
   "metadata": {},
   "outputs": [],
   "source": [
    "a = [2, 5, 7]"
   ]
  },
  {
   "cell_type": "code",
   "execution_count": 3,
   "id": "3f6b4e55",
   "metadata": {},
   "outputs": [],
   "source": [
    "b = [3, 12, 27]"
   ]
  },
  {
   "cell_type": "code",
   "execution_count": 4,
   "id": "3334079d",
   "metadata": {},
   "outputs": [
    {
     "data": {
      "text/plain": [
       "[2, 5, 7, 3, 12, 27]"
      ]
     },
     "execution_count": 4,
     "metadata": {},
     "output_type": "execute_result"
    }
   ],
   "source": [
    "a+b"
   ]
  },
  {
   "cell_type": "code",
   "execution_count": 5,
   "id": "400abe43",
   "metadata": {},
   "outputs": [],
   "source": [
    "c = [m+n for m, n in zip(a,b)]"
   ]
  },
  {
   "cell_type": "code",
   "execution_count": 6,
   "id": "1da29ce4",
   "metadata": {},
   "outputs": [
    {
     "data": {
      "text/plain": [
       "[5, 17, 34]"
      ]
     },
     "execution_count": 6,
     "metadata": {},
     "output_type": "execute_result"
    }
   ],
   "source": [
    "c"
   ]
  },
  {
   "cell_type": "code",
   "execution_count": 7,
   "id": "5f8525c9",
   "metadata": {},
   "outputs": [
    {
     "data": {
      "text/plain": [
       "14"
      ]
     },
     "execution_count": 7,
     "metadata": {},
     "output_type": "execute_result"
    }
   ],
   "source": [
    "sum(a)"
   ]
  },
  {
   "cell_type": "code",
   "execution_count": 8,
   "id": "c3cd1fbc",
   "metadata": {},
   "outputs": [],
   "source": [
    "np_a = np.array(a)"
   ]
  },
  {
   "cell_type": "code",
   "execution_count": 9,
   "id": "a598c170",
   "metadata": {},
   "outputs": [],
   "source": [
    "np_b = np.array(b)"
   ]
  },
  {
   "cell_type": "code",
   "execution_count": 10,
   "id": "f4c2d368",
   "metadata": {},
   "outputs": [
    {
     "data": {
      "text/plain": [
       "array([ 5, 17, 34])"
      ]
     },
     "execution_count": 10,
     "metadata": {},
     "output_type": "execute_result"
    }
   ],
   "source": [
    "np_a + np_b"
   ]
  },
  {
   "cell_type": "code",
   "execution_count": 11,
   "id": "53ea6f88",
   "metadata": {},
   "outputs": [],
   "source": [
    "p = np.array([1,2,\"abc\"])"
   ]
  },
  {
   "cell_type": "code",
   "execution_count": 12,
   "id": "7596c7fc",
   "metadata": {},
   "outputs": [
    {
     "data": {
      "text/plain": [
       "array(['1', '2', 'abc'], dtype='<U11')"
      ]
     },
     "execution_count": 12,
     "metadata": {},
     "output_type": "execute_result"
    }
   ],
   "source": [
    "p"
   ]
  },
  {
   "cell_type": "code",
   "execution_count": 13,
   "id": "2427f9d5",
   "metadata": {},
   "outputs": [
    {
     "ename": "UFuncTypeError",
     "evalue": "ufunc 'add' did not contain a loop with signature matching types (dtype('<U11'), dtype('int32')) -> None",
     "output_type": "error",
     "traceback": [
      "\u001b[1;31m---------------------------------------------------------------------------\u001b[0m",
      "\u001b[1;31mUFuncTypeError\u001b[0m                            Traceback (most recent call last)",
      "Cell \u001b[1;32mIn[13], line 1\u001b[0m\n\u001b[1;32m----> 1\u001b[0m p\u001b[38;5;241m+\u001b[39m np_a\n",
      "\u001b[1;31mUFuncTypeError\u001b[0m: ufunc 'add' did not contain a loop with signature matching types (dtype('<U11'), dtype('int32')) -> None"
     ]
    }
   ],
   "source": [
    "p+ np_a"
   ]
  },
  {
   "cell_type": "code",
   "execution_count": 14,
   "id": "9a9fd1eb",
   "metadata": {},
   "outputs": [
    {
     "data": {
      "text/plain": [
       "7"
      ]
     },
     "execution_count": 14,
     "metadata": {},
     "output_type": "execute_result"
    }
   ],
   "source": [
    "np_a.max()"
   ]
  },
  {
   "cell_type": "code",
   "execution_count": 15,
   "id": "6b20d0cb",
   "metadata": {},
   "outputs": [
    {
     "data": {
      "text/plain": [
       "4.666666666666667"
      ]
     },
     "execution_count": 15,
     "metadata": {},
     "output_type": "execute_result"
    }
   ],
   "source": [
    "np_a.mean()"
   ]
  },
  {
   "cell_type": "code",
   "execution_count": 16,
   "id": "cdb4fb5a",
   "metadata": {},
   "outputs": [
    {
     "data": {
      "text/plain": [
       "array([1., 1., 1.])"
      ]
     },
     "execution_count": 16,
     "metadata": {},
     "output_type": "execute_result"
    }
   ],
   "source": [
    "np.ones(3)"
   ]
  },
  {
   "cell_type": "code",
   "execution_count": 17,
   "id": "2f91e614",
   "metadata": {},
   "outputs": [
    {
     "data": {
      "text/plain": [
       "array([0., 0., 0.])"
      ]
     },
     "execution_count": 17,
     "metadata": {},
     "output_type": "execute_result"
    }
   ],
   "source": [
    "np.zeros(3)"
   ]
  },
  {
   "cell_type": "code",
   "execution_count": 18,
   "id": "0f506dcf",
   "metadata": {},
   "outputs": [
    {
     "data": {
      "text/plain": [
       "array([2., 5., 7.])"
      ]
     },
     "execution_count": 18,
     "metadata": {},
     "output_type": "execute_result"
    }
   ],
   "source": [
    "np_a*np.ones(3)"
   ]
  },
  {
   "cell_type": "code",
   "execution_count": 19,
   "id": "bddabd58",
   "metadata": {},
   "outputs": [
    {
     "data": {
      "text/plain": [
       "array([ 6, 15, 21])"
      ]
     },
     "execution_count": 19,
     "metadata": {},
     "output_type": "execute_result"
    }
   ],
   "source": [
    "np_a*[3]"
   ]
  },
  {
   "cell_type": "code",
   "execution_count": 20,
   "id": "bcfb05a5",
   "metadata": {},
   "outputs": [
    {
     "data": {
      "text/plain": [
       "array([ 4.4, 11. , 15.4])"
      ]
     },
     "execution_count": 20,
     "metadata": {},
     "output_type": "execute_result"
    }
   ],
   "source": [
    "np_a*np.array([2.2])"
   ]
  },
  {
   "cell_type": "code",
   "execution_count": 21,
   "id": "5c2dbd16",
   "metadata": {},
   "outputs": [
    {
     "ename": "ValueError",
     "evalue": "operands could not be broadcast together with shapes (3,) (2,) ",
     "output_type": "error",
     "traceback": [
      "\u001b[1;31m---------------------------------------------------------------------------\u001b[0m",
      "\u001b[1;31mValueError\u001b[0m                                Traceback (most recent call last)",
      "Cell \u001b[1;32mIn[21], line 1\u001b[0m\n\u001b[1;32m----> 1\u001b[0m np_a\u001b[38;5;241m*\u001b[39mnp\u001b[38;5;241m.\u001b[39marray([\u001b[38;5;241m2.2\u001b[39m,\u001b[38;5;241m3.2\u001b[39m])\n",
      "\u001b[1;31mValueError\u001b[0m: operands could not be broadcast together with shapes (3,) (2,) "
     ]
    }
   ],
   "source": [
    "np_a*np.array([2.2,3.2])"
   ]
  },
  {
   "cell_type": "code",
   "execution_count": 22,
   "id": "447c664f",
   "metadata": {},
   "outputs": [
    {
     "data": {
      "text/plain": [
       "5"
      ]
     },
     "execution_count": 22,
     "metadata": {},
     "output_type": "execute_result"
    }
   ],
   "source": [
    "np_a[1]"
   ]
  },
  {
   "cell_type": "code",
   "execution_count": 23,
   "id": "121df768",
   "metadata": {},
   "outputs": [
    {
     "data": {
      "text/plain": [
       "array([5, 7])"
      ]
     },
     "execution_count": 23,
     "metadata": {},
     "output_type": "execute_result"
    }
   ],
   "source": [
    "np_a[1:]"
   ]
  },
  {
   "cell_type": "code",
   "execution_count": 24,
   "id": "b57d393a",
   "metadata": {},
   "outputs": [
    {
     "data": {
      "text/plain": [
       "array([2, 5])"
      ]
     },
     "execution_count": 24,
     "metadata": {},
     "output_type": "execute_result"
    }
   ],
   "source": [
    "np_a[0:2]"
   ]
  },
  {
   "cell_type": "code",
   "execution_count": 25,
   "id": "20a1d70e",
   "metadata": {},
   "outputs": [],
   "source": [
    "np_2d = np.array([[1,2],[3,4]])"
   ]
  },
  {
   "cell_type": "code",
   "execution_count": 26,
   "id": "742f24d3",
   "metadata": {},
   "outputs": [
    {
     "data": {
      "text/plain": [
       "10"
      ]
     },
     "execution_count": 26,
     "metadata": {},
     "output_type": "execute_result"
    }
   ],
   "source": [
    "np_2d.sum()"
   ]
  },
  {
   "cell_type": "code",
   "execution_count": 27,
   "id": "bc4a4677",
   "metadata": {},
   "outputs": [
    {
     "data": {
      "text/plain": [
       "array([4, 6])"
      ]
     },
     "execution_count": 27,
     "metadata": {},
     "output_type": "execute_result"
    }
   ],
   "source": [
    "np_2d.sum(axis=0)"
   ]
  },
  {
   "cell_type": "code",
   "execution_count": 28,
   "id": "82349735",
   "metadata": {},
   "outputs": [
    {
     "data": {
      "text/plain": [
       "array([3, 7])"
      ]
     },
     "execution_count": 28,
     "metadata": {},
     "output_type": "execute_result"
    }
   ],
   "source": [
    "np_2d.sum(axis=1)"
   ]
  },
  {
   "cell_type": "code",
   "execution_count": 29,
   "id": "05b1b764",
   "metadata": {},
   "outputs": [
    {
     "ename": "TypeError",
     "evalue": "'numpy.ndarray' object is not callable",
     "output_type": "error",
     "traceback": [
      "\u001b[1;31m---------------------------------------------------------------------------\u001b[0m",
      "\u001b[1;31mTypeError\u001b[0m                                 Traceback (most recent call last)",
      "Cell \u001b[1;32mIn[29], line 1\u001b[0m\n\u001b[1;32m----> 1\u001b[0m np_2d\u001b[38;5;241m.\u001b[39mT()\n",
      "\u001b[1;31mTypeError\u001b[0m: 'numpy.ndarray' object is not callable"
     ]
    }
   ],
   "source": [
    "np_2d.T()"
   ]
  },
  {
   "cell_type": "code",
   "execution_count": 30,
   "id": "c0bfe2d8",
   "metadata": {},
   "outputs": [
    {
     "data": {
      "text/plain": [
       "array([[1, 3],\n",
       "       [2, 4]])"
      ]
     },
     "execution_count": 30,
     "metadata": {},
     "output_type": "execute_result"
    }
   ],
   "source": [
    "np_2d.T"
   ]
  },
  {
   "cell_type": "code",
   "execution_count": 31,
   "id": "9815b626",
   "metadata": {},
   "outputs": [
    {
     "data": {
      "text/plain": [
       "array([[1., 1.],\n",
       "       [1., 1.]])"
      ]
     },
     "execution_count": 31,
     "metadata": {},
     "output_type": "execute_result"
    }
   ],
   "source": [
    "np.ones([2,2])"
   ]
  },
  {
   "cell_type": "code",
   "execution_count": 32,
   "id": "a2a19ba4",
   "metadata": {},
   "outputs": [
    {
     "data": {
      "text/plain": [
       "array([[1., 0.],\n",
       "       [0., 1.]])"
      ]
     },
     "execution_count": 32,
     "metadata": {},
     "output_type": "execute_result"
    }
   ],
   "source": [
    "np.eye(2)"
   ]
  },
  {
   "cell_type": "code",
   "execution_count": 33,
   "id": "57213d72",
   "metadata": {},
   "outputs": [
    {
     "data": {
      "text/plain": [
       "array([[1, 2],\n",
       "       [3, 4]])"
      ]
     },
     "execution_count": 33,
     "metadata": {},
     "output_type": "execute_result"
    }
   ],
   "source": [
    "np_2d"
   ]
  },
  {
   "cell_type": "code",
   "execution_count": 34,
   "id": "54583779",
   "metadata": {},
   "outputs": [
    {
     "data": {
      "text/plain": [
       "array([[2., 3.],\n",
       "       [4., 5.]])"
      ]
     },
     "execution_count": 34,
     "metadata": {},
     "output_type": "execute_result"
    }
   ],
   "source": [
    "np_2d+np.ones([2,2])"
   ]
  },
  {
   "cell_type": "code",
   "execution_count": 35,
   "id": "87eadd94",
   "metadata": {},
   "outputs": [
    {
     "data": {
      "text/plain": [
       "array([[2., 3.],\n",
       "       [4., 5.]])"
      ]
     },
     "execution_count": 35,
     "metadata": {},
     "output_type": "execute_result"
    }
   ],
   "source": [
    "np_2d+np.ones(2)"
   ]
  },
  {
   "cell_type": "code",
   "execution_count": 36,
   "id": "8d0ca5db",
   "metadata": {},
   "outputs": [
    {
     "data": {
      "text/plain": [
       "array([[2., 3.],\n",
       "       [4., 5.]])"
      ]
     },
     "execution_count": 36,
     "metadata": {},
     "output_type": "execute_result"
    }
   ],
   "source": [
    "np_2d+np.ones([2,1])"
   ]
  },
  {
   "cell_type": "code",
   "execution_count": 37,
   "id": "e19aacc8",
   "metadata": {},
   "outputs": [],
   "source": [
    "np_dotp = np_2d.dot(np.array([[1,10,100],[1000,100,10]]))"
   ]
  },
  {
   "cell_type": "code",
   "execution_count": 38,
   "id": "91cf6331",
   "metadata": {},
   "outputs": [
    {
     "data": {
      "text/plain": [
       "array([[2001,  210,  120],\n",
       "       [4003,  430,  340]])"
      ]
     },
     "execution_count": 38,
     "metadata": {},
     "output_type": "execute_result"
    }
   ],
   "source": [
    "np_dotp"
   ]
  },
  {
   "cell_type": "code",
   "execution_count": 39,
   "id": "98ae8064",
   "metadata": {},
   "outputs": [
    {
     "data": {
      "text/plain": [
       "210"
      ]
     },
     "execution_count": 39,
     "metadata": {},
     "output_type": "execute_result"
    }
   ],
   "source": [
    "np_dotp[0,1]"
   ]
  },
  {
   "cell_type": "code",
   "execution_count": 40,
   "id": "cbc1b40b",
   "metadata": {},
   "outputs": [
    {
     "data": {
      "text/plain": [
       "array([[4003,  430,  340]])"
      ]
     },
     "execution_count": 40,
     "metadata": {},
     "output_type": "execute_result"
    }
   ],
   "source": [
    "np_dotp[1:3]"
   ]
  },
  {
   "cell_type": "code",
   "execution_count": 41,
   "id": "45186705",
   "metadata": {},
   "outputs": [
    {
     "data": {
      "text/plain": [
       "array([2001, 4003])"
      ]
     },
     "execution_count": 41,
     "metadata": {},
     "output_type": "execute_result"
    }
   ],
   "source": [
    "np_dotp[0:2,0]"
   ]
  },
  {
   "cell_type": "code",
   "execution_count": 42,
   "id": "b1c39f6a",
   "metadata": {},
   "outputs": [],
   "source": [
    "np_rs = np.array([1,2,3,4,5,6])"
   ]
  },
  {
   "cell_type": "code",
   "execution_count": 43,
   "id": "f2feaa22",
   "metadata": {},
   "outputs": [
    {
     "data": {
      "text/plain": [
       "array([1, 2, 3, 4, 5, 6])"
      ]
     },
     "execution_count": 43,
     "metadata": {},
     "output_type": "execute_result"
    }
   ],
   "source": [
    "np_rs"
   ]
  },
  {
   "cell_type": "code",
   "execution_count": 44,
   "id": "9800a502",
   "metadata": {},
   "outputs": [
    {
     "data": {
      "text/plain": [
       "array([[1, 2, 3],\n",
       "       [4, 5, 6]])"
      ]
     },
     "execution_count": 44,
     "metadata": {},
     "output_type": "execute_result"
    }
   ],
   "source": [
    "np_rs.reshape(2,3)"
   ]
  },
  {
   "cell_type": "code",
   "execution_count": 45,
   "id": "0dae4fcf",
   "metadata": {},
   "outputs": [
    {
     "data": {
      "text/plain": [
       "array([[1, 2],\n",
       "       [3, 4],\n",
       "       [5, 6]])"
      ]
     },
     "execution_count": 45,
     "metadata": {},
     "output_type": "execute_result"
    }
   ],
   "source": [
    "np_rs.reshape(3,2)"
   ]
  },
  {
   "cell_type": "code",
   "execution_count": 46,
   "id": "d556ffed",
   "metadata": {},
   "outputs": [
    {
     "data": {
      "text/plain": [
       "array([[1, 2],\n",
       "       [3, 4],\n",
       "       [5, 6]])"
      ]
     },
     "execution_count": 46,
     "metadata": {},
     "output_type": "execute_result"
    }
   ],
   "source": [
    "np_rs.reshape(3,-1)"
   ]
  },
  {
   "cell_type": "code",
   "execution_count": 47,
   "id": "db952d1d",
   "metadata": {},
   "outputs": [
    {
     "ename": "ValueError",
     "evalue": "cannot reshape array of size 6 into shape (4,newaxis)",
     "output_type": "error",
     "traceback": [
      "\u001b[1;31m---------------------------------------------------------------------------\u001b[0m",
      "\u001b[1;31mValueError\u001b[0m                                Traceback (most recent call last)",
      "Cell \u001b[1;32mIn[47], line 1\u001b[0m\n\u001b[1;32m----> 1\u001b[0m np_rs\u001b[38;5;241m.\u001b[39mreshape(\u001b[38;5;241m4\u001b[39m,\u001b[38;5;241m-\u001b[39m\u001b[38;5;241m1\u001b[39m)\n",
      "\u001b[1;31mValueError\u001b[0m: cannot reshape array of size 6 into shape (4,newaxis)"
     ]
    }
   ],
   "source": [
    "np_rs.reshape(4,-1)"
   ]
  },
  {
   "cell_type": "code",
   "execution_count": 48,
   "id": "b53c8a9c",
   "metadata": {},
   "outputs": [
    {
     "data": {
      "text/plain": [
       "array([[1, 2, 3],\n",
       "       [4, 5, 6]])"
      ]
     },
     "execution_count": 48,
     "metadata": {},
     "output_type": "execute_result"
    }
   ],
   "source": [
    "np_rs.reshape(2,-1)"
   ]
  },
  {
   "cell_type": "code",
   "execution_count": 49,
   "id": "d1d8816c",
   "metadata": {},
   "outputs": [
    {
     "ename": "ValueError",
     "evalue": "cannot reshape array of size 6 into shape (2,2,newaxis)",
     "output_type": "error",
     "traceback": [
      "\u001b[1;31m---------------------------------------------------------------------------\u001b[0m",
      "\u001b[1;31mValueError\u001b[0m                                Traceback (most recent call last)",
      "Cell \u001b[1;32mIn[49], line 1\u001b[0m\n\u001b[1;32m----> 1\u001b[0m np_rs\u001b[38;5;241m.\u001b[39mreshape(\u001b[38;5;241m2\u001b[39m,\u001b[38;5;241m2\u001b[39m,\u001b[38;5;241m-\u001b[39m\u001b[38;5;241m1\u001b[39m)\n",
      "\u001b[1;31mValueError\u001b[0m: cannot reshape array of size 6 into shape (2,2,newaxis)"
     ]
    }
   ],
   "source": [
    "np_rs.reshape(2,2,-1)"
   ]
  },
  {
   "cell_type": "code",
   "execution_count": 50,
   "id": "47ded2fd",
   "metadata": {},
   "outputs": [
    {
     "data": {
      "text/plain": [
       "array([[1, 2, 3],\n",
       "       [4, 5, 6]])"
      ]
     },
     "execution_count": 50,
     "metadata": {},
     "output_type": "execute_result"
    }
   ],
   "source": [
    "np_rs.reshape(-1,3)"
   ]
  },
  {
   "cell_type": "code",
   "execution_count": 51,
   "id": "f552302c",
   "metadata": {},
   "outputs": [
    {
     "ename": "TypeError",
     "evalue": "'module' object is not callable",
     "output_type": "error",
     "traceback": [
      "\u001b[1;31m---------------------------------------------------------------------------\u001b[0m",
      "\u001b[1;31mTypeError\u001b[0m                                 Traceback (most recent call last)",
      "Cell \u001b[1;32mIn[51], line 1\u001b[0m\n\u001b[1;32m----> 1\u001b[0m np\u001b[38;5;241m.\u001b[39mrandom(\u001b[38;5;241m2\u001b[39m)\n",
      "\u001b[1;31mTypeError\u001b[0m: 'module' object is not callable"
     ]
    }
   ],
   "source": [
    "np.random(2)"
   ]
  },
  {
   "cell_type": "code",
   "execution_count": 52,
   "id": "41fb9382",
   "metadata": {},
   "outputs": [
    {
     "data": {
      "text/plain": [
       "array([0.82511608, 0.55497121])"
      ]
     },
     "execution_count": 52,
     "metadata": {},
     "output_type": "execute_result"
    }
   ],
   "source": [
    "np.random.random(2)"
   ]
  },
  {
   "cell_type": "code",
   "execution_count": 53,
   "id": "153b11b5",
   "metadata": {},
   "outputs": [
    {
     "ename": "ModuleNotFoundError",
     "evalue": "No module named 'np'",
     "output_type": "error",
     "traceback": [
      "\u001b[1;31m---------------------------------------------------------------------------\u001b[0m",
      "\u001b[1;31mModuleNotFoundError\u001b[0m                       Traceback (most recent call last)",
      "Cell \u001b[1;32mIn[53], line 1\u001b[0m\n\u001b[1;32m----> 1\u001b[0m \u001b[38;5;28;01mimport\u001b[39;00m \u001b[38;5;21;01mnp\u001b[39;00m\u001b[38;5;21;01m.\u001b[39;00m\u001b[38;5;21;01mrandom\u001b[39;00m \u001b[38;5;28;01mas\u001b[39;00m \u001b[38;5;21;01mrandom\u001b[39;00m\n",
      "\u001b[1;31mModuleNotFoundError\u001b[0m: No module named 'np'"
     ]
    }
   ],
   "source": [
    "import np.random as random"
   ]
  },
  {
   "cell_type": "code",
   "execution_count": 54,
   "id": "f14c1645",
   "metadata": {},
   "outputs": [],
   "source": [
    "import numpy.random as random"
   ]
  },
  {
   "cell_type": "code",
   "execution_count": 55,
   "id": "12b02be0",
   "metadata": {},
   "outputs": [
    {
     "ename": "TypeError",
     "evalue": "'module' object is not callable",
     "output_type": "error",
     "traceback": [
      "\u001b[1;31m---------------------------------------------------------------------------\u001b[0m",
      "\u001b[1;31mTypeError\u001b[0m                                 Traceback (most recent call last)",
      "Cell \u001b[1;32mIn[55], line 1\u001b[0m\n\u001b[1;32m----> 1\u001b[0m random(\u001b[38;5;241m2\u001b[39m)\n",
      "\u001b[1;31mTypeError\u001b[0m: 'module' object is not callable"
     ]
    }
   ],
   "source": [
    "random(2)"
   ]
  },
  {
   "cell_type": "code",
   "execution_count": 56,
   "id": "29fd7c12",
   "metadata": {},
   "outputs": [
    {
     "data": {
      "text/plain": [
       "array([0.50331931, 0.1988937 ])"
      ]
     },
     "execution_count": 56,
     "metadata": {},
     "output_type": "execute_result"
    }
   ],
   "source": [
    "random.random(2)"
   ]
  },
  {
   "cell_type": "code",
   "execution_count": 57,
   "id": "50e77f01",
   "metadata": {},
   "outputs": [
    {
     "data": {
      "text/plain": [
       "array([[0.97847756, 0.47523392],\n",
       "       [0.09653067, 0.40917114],\n",
       "       [0.44878372, 0.03724573]])"
      ]
     },
     "execution_count": 57,
     "metadata": {},
     "output_type": "execute_result"
    }
   ],
   "source": [
    "random.random([3,2])"
   ]
  },
  {
   "cell_type": "code",
   "execution_count": 58,
   "id": "5be6ad52",
   "metadata": {},
   "outputs": [],
   "source": [
    "import numpy.linalg as la"
   ]
  },
  {
   "cell_type": "code",
   "execution_count": 59,
   "id": "c91badea",
   "metadata": {},
   "outputs": [
    {
     "data": {
      "text/plain": [
       "array([[-2. ,  1. ],\n",
       "       [ 1.5, -0.5]])"
      ]
     },
     "execution_count": 59,
     "metadata": {},
     "output_type": "execute_result"
    }
   ],
   "source": [
    "la.inv(np_2d)"
   ]
  },
  {
   "cell_type": "code",
   "execution_count": 60,
   "id": "190d9150",
   "metadata": {},
   "outputs": [
    {
     "data": {
      "text/plain": [
       "(array([-0.37228132,  5.37228132]),\n",
       " array([[-0.82456484, -0.41597356],\n",
       "        [ 0.56576746, -0.90937671]]))"
      ]
     },
     "execution_count": 60,
     "metadata": {},
     "output_type": "execute_result"
    }
   ],
   "source": [
    "la.eig(np_2d)"
   ]
  },
  {
   "cell_type": "code",
   "execution_count": 61,
   "id": "2e922a01",
   "metadata": {},
   "outputs": [
    {
     "data": {
      "text/plain": [
       "(array([[-0.40455358, -0.9145143 ],\n",
       "        [-0.9145143 ,  0.40455358]]),\n",
       " array([5.4649857 , 0.36596619]),\n",
       " array([[-0.57604844, -0.81741556],\n",
       "        [ 0.81741556, -0.57604844]]))"
      ]
     },
     "execution_count": 61,
     "metadata": {},
     "output_type": "execute_result"
    }
   ],
   "source": [
    "la.svd(np_2d)"
   ]
  },
  {
   "cell_type": "code",
   "execution_count": 62,
   "id": "a441edcb",
   "metadata": {},
   "outputs": [
    {
     "data": {
      "text/plain": [
       "array([[-2. ,  1. ],\n",
       "       [ 1.5, -0.5]])"
      ]
     },
     "execution_count": 62,
     "metadata": {},
     "output_type": "execute_result"
    }
   ],
   "source": [
    "la.pinv(np_2d)"
   ]
  },
  {
   "cell_type": "code",
   "execution_count": 63,
   "id": "0b049bfc",
   "metadata": {},
   "outputs": [
    {
     "data": {
      "text/plain": [
       "array([[1.5157604 , 2.37875162, 2.0047976 ],\n",
       "       [2.77593434, 0.44115862, 2.52998529]])"
      ]
     },
     "execution_count": 63,
     "metadata": {},
     "output_type": "execute_result"
    }
   ],
   "source": [
    "random.rand(2,3)*5"
   ]
  },
  {
   "cell_type": "code",
   "execution_count": 64,
   "id": "6c0ec0e3",
   "metadata": {},
   "outputs": [
    {
     "data": {
      "text/plain": [
       "array([[-0.5031623 , -0.11486942,  0.24696024],\n",
       "       [ 0.76810465, -0.40332098,  0.34895206]])"
      ]
     },
     "execution_count": 64,
     "metadata": {},
     "output_type": "execute_result"
    }
   ],
   "source": [
    "random.randn(2,3)"
   ]
  },
  {
   "cell_type": "raw",
   "id": "9a427a24",
   "metadata": {},
   "source": [
    "random.randint(-2,5,3)"
   ]
  },
  {
   "cell_type": "code",
   "execution_count": 65,
   "id": "2a7e897a",
   "metadata": {},
   "outputs": [
    {
     "data": {
      "text/plain": [
       "array([-2,  2,  0,  2, -1])"
      ]
     },
     "execution_count": 65,
     "metadata": {},
     "output_type": "execute_result"
    }
   ],
   "source": [
    "random.randint(-2,3,5)"
   ]
  },
  {
   "cell_type": "code",
   "execution_count": 66,
   "id": "52b331b2",
   "metadata": {},
   "outputs": [],
   "source": [
    "random.shuffle(np_rs)"
   ]
  },
  {
   "cell_type": "code",
   "execution_count": 67,
   "id": "cee749c4",
   "metadata": {},
   "outputs": [
    {
     "data": {
      "text/plain": [
       "array([6, 3, 2, 1, 4, 5])"
      ]
     },
     "execution_count": 67,
     "metadata": {},
     "output_type": "execute_result"
    }
   ],
   "source": [
    "np_rs"
   ]
  },
  {
   "cell_type": "code",
   "execution_count": 68,
   "id": "53d0e965",
   "metadata": {},
   "outputs": [
    {
     "data": {
      "text/plain": [
       "array([1, 5])"
      ]
     },
     "execution_count": 68,
     "metadata": {},
     "output_type": "execute_result"
    }
   ],
   "source": [
    "random.choice(np_rs, 2)"
   ]
  },
  {
   "cell_type": "code",
   "execution_count": 69,
   "id": "60f3d510",
   "metadata": {},
   "outputs": [
    {
     "data": {
      "text/plain": [
       "8"
      ]
     },
     "execution_count": 69,
     "metadata": {},
     "output_type": "execute_result"
    }
   ],
   "source": [
    "random.binomial(20,0.3)"
   ]
  },
  {
   "cell_type": "code",
   "execution_count": 70,
   "id": "f581cef6",
   "metadata": {},
   "outputs": [
    {
     "data": {
      "text/plain": [
       "array([4, 3, 4, 2, 6, 4, 6])"
      ]
     },
     "execution_count": 70,
     "metadata": {},
     "output_type": "execute_result"
    }
   ],
   "source": [
    "random.binomial(20, 0.3, 7)"
   ]
  },
  {
   "cell_type": "code",
   "execution_count": 71,
   "id": "316e609a",
   "metadata": {},
   "outputs": [
    {
     "data": {
      "text/plain": [
       "array([1.62495145, 0.56979472, 0.10891431, 0.15254924])"
      ]
     },
     "execution_count": 71,
     "metadata": {},
     "output_type": "execute_result"
    }
   ],
   "source": [
    "random.exponential(0.7,4)"
   ]
  },
  {
   "cell_type": "code",
   "execution_count": null,
   "id": "c3c3da6e",
   "metadata": {},
   "outputs": [],
   "source": [
    "%%time\n"
   ]
  },
  {
   "cell_type": "code",
   "execution_count": 72,
   "id": "0df740eb",
   "metadata": {},
   "outputs": [
    {
     "data": {
      "text/plain": [
       "array([14.75890713,  8.54274887, -6.39011871])"
      ]
     },
     "execution_count": 72,
     "metadata": {},
     "output_type": "execute_result"
    }
   ],
   "source": [
    "random.normal(-5,12,3)"
   ]
  },
  {
   "cell_type": "code",
   "execution_count": 73,
   "id": "ae4df0fe",
   "metadata": {},
   "outputs": [
    {
     "data": {
      "text/plain": [
       "array([ 3.98827915, -5.55833392, -3.40702308,  1.02229681, -3.0953516 ,\n",
       "       -1.51871937,  3.85298528])"
      ]
     },
     "execution_count": 73,
     "metadata": {},
     "output_type": "execute_result"
    }
   ],
   "source": [
    "random.logistic(-2,4,7)"
   ]
  },
  {
   "cell_type": "code",
   "execution_count": 74,
   "id": "197bd554",
   "metadata": {},
   "outputs": [
    {
     "data": {
      "text/plain": [
       "(2, 2)"
      ]
     },
     "execution_count": 74,
     "metadata": {},
     "output_type": "execute_result"
    }
   ],
   "source": [
    "np_2d.shape"
   ]
  },
  {
   "cell_type": "code",
   "execution_count": 75,
   "id": "2f09cee7",
   "metadata": {},
   "outputs": [
    {
     "data": {
      "text/plain": [
       "dtype('int32')"
      ]
     },
     "execution_count": 75,
     "metadata": {},
     "output_type": "execute_result"
    }
   ],
   "source": [
    "np_2d.dtype"
   ]
  },
  {
   "cell_type": "code",
   "execution_count": 76,
   "id": "68058276",
   "metadata": {},
   "outputs": [
    {
     "data": {
      "text/plain": [
       "numpy.ndarray"
      ]
     },
     "execution_count": 76,
     "metadata": {},
     "output_type": "execute_result"
    }
   ],
   "source": [
    "type(np_2d)"
   ]
  },
  {
   "cell_type": "code",
   "execution_count": 77,
   "id": "188f8626",
   "metadata": {},
   "outputs": [
    {
     "data": {
      "text/plain": [
       "array([[1., 1.],\n",
       "       [1., 1.]])"
      ]
     },
     "execution_count": 77,
     "metadata": {},
     "output_type": "execute_result"
    }
   ],
   "source": [
    "np.vstack(np.ones([2,2]))"
   ]
  },
  {
   "cell_type": "code",
   "execution_count": 78,
   "id": "1c81dfac",
   "metadata": {},
   "outputs": [
    {
     "data": {
      "text/plain": [
       "array([[1., 2.],\n",
       "       [3., 4.],\n",
       "       [1., 1.],\n",
       "       [1., 1.]])"
      ]
     },
     "execution_count": 78,
     "metadata": {},
     "output_type": "execute_result"
    }
   ],
   "source": [
    "np.vstack((np_2d,np.ones([2,2])))"
   ]
  },
  {
   "cell_type": "code",
   "execution_count": 79,
   "id": "190dfbcf",
   "metadata": {},
   "outputs": [
    {
     "data": {
      "text/plain": [
       "array([[1., 2., 1., 1.],\n",
       "       [3., 4., 1., 1.]])"
      ]
     },
     "execution_count": 79,
     "metadata": {},
     "output_type": "execute_result"
    }
   ],
   "source": [
    "np.hstack((np_2d,np.ones([2,2])))"
   ]
  },
  {
   "cell_type": "code",
   "execution_count": 80,
   "id": "8cac5e59",
   "metadata": {},
   "outputs": [],
   "source": [
    "N=10000000\n",
    "x=list(range(N))\n",
    "y=list(range(N)) \n",
    "z=[]"
   ]
  },
  {
   "cell_type": "code",
   "execution_count": 81,
   "id": "eaf5a569",
   "metadata": {},
   "outputs": [],
   "source": [
    "np_x = np.array(x)\n",
    "np_y = np.array(y)"
   ]
  },
  {
   "cell_type": "code",
   "execution_count": 82,
   "id": "815dcb98",
   "metadata": {},
   "outputs": [
    {
     "name": "stdout",
     "output_type": "stream",
     "text": [
      "CPU times: total: 2.25 s\n",
      "Wall time: 2.41 s\n"
     ]
    }
   ],
   "source": [
    "%%time\n",
    "for i in range(len(x)):\n",
    "    z.append(x[i]+y[i])\n"
   ]
  },
  {
   "cell_type": "code",
   "execution_count": 83,
   "id": "42adb9fa",
   "metadata": {},
   "outputs": [
    {
     "name": "stdout",
     "output_type": "stream",
     "text": [
      "CPU times: total: 31.2 ms\n",
      "Wall time: 23.8 ms\n"
     ]
    }
   ],
   "source": [
    "%%time\n",
    "np_z = np_x+np_y"
   ]
  },
  {
   "cell_type": "markdown",
   "id": "35075e0e",
   "metadata": {},
   "source": [
    "**Newton Method**\n",
    "Perform this matrix computation -> ((X'X)^-1)*X'y, use only X and y values from rows 2 to 41\n",
    "Error Computation (both Training and Test Error)\n",
    "\n",
    "Generate y values from the new generated w values\n",
    "\n",
    "Compute the SSR, MSR and RMSE between the generated y values and the actual values both for the data from rows 2 to 41 and the data from rows 43 to 51\n",
    "\n",
    "**Regularized Newton**\n",
    "Next step perform the matrix computation -> ((X'X+lambda*I)^-1)*X'y, using only X and y values from rows 2 to 41\n",
    "\n",
    "**Use lambda as 0.17**\n",
    "Compute and report both training and test errors for the regularized newton computation\n",
    "Compute R-squared values for both Newton and Regularized Newton on both train and test datasets\n",
    "\n",
    "Look up how to compute R-squared values in excel\n",
    "\n",
    "Let's try some more things\n",
    "\n",
    "For each of the below report the following, MSR on train, MSR on test, R-squared on train and R-squared on test\n",
    "1. Use only rows 2 to 41 for training and rows 42 to 51 for testing and lambda as 0.83\n",
    "2. Use only rows 2 to 26 for training and rows 27 to 51 for testing and lambda as 0.17\n",
    "3. Use only rows 2 to 26 for training and rows 27 to 51 for testing and lambda as 0.83\n",
    "4. Use only rows 2 to 11 for training and rows 12 to 51 for testing and lambda as 0.17\n",
    "5. Use only rows 2 to 11 for training and rows 12 to 51 for testing and lambda as 0.83\n"
   ]
  },
  {
   "cell_type": "code",
   "execution_count": 84,
   "id": "6b47664d",
   "metadata": {},
   "outputs": [],
   "source": [
    "# importing modules\n",
    "import numpy as np\n",
    "import pandas as pd"
   ]
  },
  {
   "cell_type": "code",
   "execution_count": 85,
   "id": "0c148978",
   "metadata": {},
   "outputs": [
    {
     "data": {
      "text/html": [
       "<div>\n",
       "<style scoped>\n",
       "    .dataframe tbody tr th:only-of-type {\n",
       "        vertical-align: middle;\n",
       "    }\n",
       "\n",
       "    .dataframe tbody tr th {\n",
       "        vertical-align: top;\n",
       "    }\n",
       "\n",
       "    .dataframe thead th {\n",
       "        text-align: right;\n",
       "    }\n",
       "</style>\n",
       "<table border=\"1\" class=\"dataframe\">\n",
       "  <thead>\n",
       "    <tr style=\"text-align: right;\">\n",
       "      <th></th>\n",
       "      <th>X0</th>\n",
       "      <th>X1</th>\n",
       "      <th>X2</th>\n",
       "      <th>X3</th>\n",
       "      <th>X4</th>\n",
       "      <th>X5</th>\n",
       "      <th>y</th>\n",
       "      <th>Unnamed: 7</th>\n",
       "      <th>Unnamed: 8</th>\n",
       "      <th>Unnamed: 9</th>\n",
       "      <th>Unnamed: 10</th>\n",
       "    </tr>\n",
       "  </thead>\n",
       "  <tbody>\n",
       "    <tr>\n",
       "      <th>0</th>\n",
       "      <td>1</td>\n",
       "      <td>5.768</td>\n",
       "      <td>62.55</td>\n",
       "      <td>0</td>\n",
       "      <td>28</td>\n",
       "      <td>2.6</td>\n",
       "      <td>28</td>\n",
       "      <td>NaN</td>\n",
       "      <td>NaN</td>\n",
       "      <td>NaN</td>\n",
       "      <td>NaN</td>\n",
       "    </tr>\n",
       "    <tr>\n",
       "      <th>1</th>\n",
       "      <td>1</td>\n",
       "      <td>8.949</td>\n",
       "      <td>66.91</td>\n",
       "      <td>0</td>\n",
       "      <td>27</td>\n",
       "      <td>-2.0</td>\n",
       "      <td>46</td>\n",
       "      <td>NaN</td>\n",
       "      <td>NaN</td>\n",
       "      <td>NaN</td>\n",
       "      <td>NaN</td>\n",
       "    </tr>\n",
       "    <tr>\n",
       "      <th>2</th>\n",
       "      <td>1</td>\n",
       "      <td>1.024</td>\n",
       "      <td>34.42</td>\n",
       "      <td>0</td>\n",
       "      <td>20</td>\n",
       "      <td>-3.4</td>\n",
       "      <td>14</td>\n",
       "      <td>NaN</td>\n",
       "      <td>NaN</td>\n",
       "      <td>NaN</td>\n",
       "      <td>NaN</td>\n",
       "    </tr>\n",
       "    <tr>\n",
       "      <th>3</th>\n",
       "      <td>1</td>\n",
       "      <td>4.534</td>\n",
       "      <td>47.93</td>\n",
       "      <td>0</td>\n",
       "      <td>10</td>\n",
       "      <td>1.1</td>\n",
       "      <td>17</td>\n",
       "      <td>NaN</td>\n",
       "      <td>NaN</td>\n",
       "      <td>NaN</td>\n",
       "      <td>NaN</td>\n",
       "    </tr>\n",
       "    <tr>\n",
       "      <th>4</th>\n",
       "      <td>1</td>\n",
       "      <td>8.641</td>\n",
       "      <td>35.26</td>\n",
       "      <td>0</td>\n",
       "      <td>30</td>\n",
       "      <td>3.8</td>\n",
       "      <td>32</td>\n",
       "      <td>NaN</td>\n",
       "      <td>NaN</td>\n",
       "      <td>NaN</td>\n",
       "      <td>NaN</td>\n",
       "    </tr>\n",
       "  </tbody>\n",
       "</table>\n",
       "</div>"
      ],
      "text/plain": [
       "   X0     X1     X2  X3  X4   X5   y  Unnamed: 7  Unnamed: 8  Unnamed: 9  \\\n",
       "0   1  5.768  62.55   0  28  2.6  28         NaN         NaN         NaN   \n",
       "1   1  8.949  66.91   0  27 -2.0  46         NaN         NaN         NaN   \n",
       "2   1  1.024  34.42   0  20 -3.4  14         NaN         NaN         NaN   \n",
       "3   1  4.534  47.93   0  10  1.1  17         NaN         NaN         NaN   \n",
       "4   1  8.641  35.26   0  30  3.8  32         NaN         NaN         NaN   \n",
       "\n",
       "   Unnamed: 10  \n",
       "0          NaN  \n",
       "1          NaN  \n",
       "2          NaN  \n",
       "3          NaN  \n",
       "4          NaN  "
      ]
     },
     "execution_count": 85,
     "metadata": {},
     "output_type": "execute_result"
    }
   ],
   "source": [
    "# accessing the data\n",
    "np_df = pd.read_csv(\"NumpyExerciseData.csv\")\n",
    "np_df.head()"
   ]
  },
  {
   "cell_type": "code",
   "execution_count": 86,
   "id": "ee77d82d",
   "metadata": {},
   "outputs": [
    {
     "data": {
      "text/html": [
       "<div>\n",
       "<style scoped>\n",
       "    .dataframe tbody tr th:only-of-type {\n",
       "        vertical-align: middle;\n",
       "    }\n",
       "\n",
       "    .dataframe tbody tr th {\n",
       "        vertical-align: top;\n",
       "    }\n",
       "\n",
       "    .dataframe thead th {\n",
       "        text-align: right;\n",
       "    }\n",
       "</style>\n",
       "<table border=\"1\" class=\"dataframe\">\n",
       "  <thead>\n",
       "    <tr style=\"text-align: right;\">\n",
       "      <th></th>\n",
       "      <th>X0</th>\n",
       "      <th>X1</th>\n",
       "      <th>X2</th>\n",
       "      <th>X3</th>\n",
       "      <th>X4</th>\n",
       "      <th>X5</th>\n",
       "      <th>y</th>\n",
       "    </tr>\n",
       "  </thead>\n",
       "  <tbody>\n",
       "    <tr>\n",
       "      <th>0</th>\n",
       "      <td>1</td>\n",
       "      <td>5.768</td>\n",
       "      <td>62.55</td>\n",
       "      <td>0</td>\n",
       "      <td>28</td>\n",
       "      <td>2.6</td>\n",
       "      <td>28</td>\n",
       "    </tr>\n",
       "    <tr>\n",
       "      <th>1</th>\n",
       "      <td>1</td>\n",
       "      <td>8.949</td>\n",
       "      <td>66.91</td>\n",
       "      <td>0</td>\n",
       "      <td>27</td>\n",
       "      <td>-2.0</td>\n",
       "      <td>46</td>\n",
       "    </tr>\n",
       "    <tr>\n",
       "      <th>2</th>\n",
       "      <td>1</td>\n",
       "      <td>1.024</td>\n",
       "      <td>34.42</td>\n",
       "      <td>0</td>\n",
       "      <td>20</td>\n",
       "      <td>-3.4</td>\n",
       "      <td>14</td>\n",
       "    </tr>\n",
       "    <tr>\n",
       "      <th>3</th>\n",
       "      <td>1</td>\n",
       "      <td>4.534</td>\n",
       "      <td>47.93</td>\n",
       "      <td>0</td>\n",
       "      <td>10</td>\n",
       "      <td>1.1</td>\n",
       "      <td>17</td>\n",
       "    </tr>\n",
       "    <tr>\n",
       "      <th>4</th>\n",
       "      <td>1</td>\n",
       "      <td>8.641</td>\n",
       "      <td>35.26</td>\n",
       "      <td>0</td>\n",
       "      <td>30</td>\n",
       "      <td>3.8</td>\n",
       "      <td>32</td>\n",
       "    </tr>\n",
       "  </tbody>\n",
       "</table>\n",
       "</div>"
      ],
      "text/plain": [
       "   X0     X1     X2  X3  X4   X5   y\n",
       "0   1  5.768  62.55   0  28  2.6  28\n",
       "1   1  8.949  66.91   0  27 -2.0  46\n",
       "2   1  1.024  34.42   0  20 -3.4  14\n",
       "3   1  4.534  47.93   0  10  1.1  17\n",
       "4   1  8.641  35.26   0  30  3.8  32"
      ]
     },
     "execution_count": 86,
     "metadata": {},
     "output_type": "execute_result"
    }
   ],
   "source": [
    "# removing unwanted columns\n",
    "np_df = np_df.drop(columns=[\"Unnamed: 7\", \"Unnamed: 8\", \"Unnamed: 9\", \"Unnamed: 10\"])\n",
    "np_df.head()"
   ]
  },
  {
   "cell_type": "markdown",
   "id": "ad6459e2",
   "metadata": {},
   "source": [
    "### Newton Method"
   ]
  },
  {
   "cell_type": "markdown",
   "id": "23df325e",
   "metadata": {},
   "source": [
    "**Training Error Computation**"
   ]
  },
  {
   "cell_type": "code",
   "execution_count": 87,
   "id": "cc0bbc12",
   "metadata": {},
   "outputs": [],
   "source": [
    "# getting X_train and y_train values from rows 2 to 41 in matrices\n",
    "X_train = np_df.iloc[1:41, :6].values\n",
    "y_train = np_df.iloc[1:41, -1].values"
   ]
  },
  {
   "cell_type": "code",
   "execution_count": 88,
   "id": "513ffe36",
   "metadata": {},
   "outputs": [
    {
     "data": {
      "text/plain": [
       "(40, 6)"
      ]
     },
     "execution_count": 88,
     "metadata": {},
     "output_type": "execute_result"
    }
   ],
   "source": [
    "X_train.shape"
   ]
  },
  {
   "cell_type": "code",
   "execution_count": 89,
   "id": "e3c5f8fb",
   "metadata": {},
   "outputs": [
    {
     "data": {
      "text/plain": [
       "(40,)"
      ]
     },
     "execution_count": 89,
     "metadata": {},
     "output_type": "execute_result"
    }
   ],
   "source": [
    "y_train.shape"
   ]
  },
  {
   "cell_type": "code",
   "execution_count": 90,
   "id": "039a935f",
   "metadata": {},
   "outputs": [
    {
     "data": {
      "text/plain": [
       "array([[ 1.   ,  1.   ,  8.949, 66.91 ,  0.   , 27.   , -2.   ],\n",
       "       [ 1.   ,  1.   ,  1.024, 34.42 ,  0.   , 20.   , -3.4  ],\n",
       "       [ 1.   ,  1.   ,  4.534, 47.93 ,  0.   , 10.   ,  1.1  ],\n",
       "       [ 1.   ,  1.   ,  8.641, 35.26 ,  0.   , 30.   ,  3.8  ],\n",
       "       [ 1.   ,  1.   ,  1.063, 42.14 ,  0.   ,  6.   , -2.1  ],\n",
       "       [ 1.   ,  1.   ,  5.306, 39.8  ,  0.   , 29.   , -1.8  ],\n",
       "       [ 1.   ,  1.   ,  4.309, 36.14 ,  0.   , 12.   , -3.4  ],\n",
       "       [ 1.   ,  1.   ,  3.739, 44.53 ,  0.   , 39.   ,  1.9  ],\n",
       "       [ 1.   ,  1.   ,  3.816, 60.01 ,  0.   , 10.   , -3.4  ],\n",
       "       [ 1.   ,  1.   ,  8.539, 36.9  ,  0.   , 31.   , -3.   ],\n",
       "       [ 1.   ,  1.   ,  7.129, 35.77 ,  0.   , 38.   ,  3.5  ],\n",
       "       [ 1.   ,  1.   ,  4.249, 37.17 ,  0.   , 23.   ,  0.8  ],\n",
       "       [ 1.   ,  1.   , -2.99 , 42.41 ,  0.   , 20.   , -3.1  ],\n",
       "       [ 1.   ,  1.   ,  0.356, 57.67 ,  0.   , 26.   , -3.8  ],\n",
       "       [ 1.   ,  1.   ,  5.487, 35.25 ,  0.   , 10.   , -2.8  ],\n",
       "       [ 1.   ,  1.   ,  5.699, 62.15 ,  0.   , 13.   ,  2.4  ],\n",
       "       [ 1.   ,  1.   , -0.373, 38.38 ,  1.   , 42.   ,  2.   ],\n",
       "       [ 1.   ,  1.   ,  3.9  , 40.53 ,  0.   , 23.   , -2.5  ],\n",
       "       [ 1.   ,  1.   ,  3.616, 35.91 ,  1.   , 16.   ,  3.1  ],\n",
       "       [ 1.   ,  1.   ,  9.103, 59.6  ,  0.   , 14.   ,  2.2  ],\n",
       "       [ 1.   ,  1.   ,  2.714, 43.54 ,  0.   , 37.   ,  2.1  ],\n",
       "       [ 1.   ,  1.   ,  6.885, 35.66 ,  1.   , 20.   , -3.7  ],\n",
       "       [ 1.   ,  1.   , -0.85 , 43.94 ,  1.   , 31.   , -3.2  ],\n",
       "       [ 1.   ,  1.   ,  5.511, 58.96 ,  0.   ,  6.   , -3.8  ],\n",
       "       [ 1.   ,  1.   ,  5.225, 45.25 ,  0.   , 24.   , -1.3  ],\n",
       "       [ 1.   ,  1.   ,  7.982, 43.71 ,  0.   , 27.   ,  2.   ],\n",
       "       [ 1.   ,  1.   ,  4.361, 52.71 ,  0.   , 22.   , -2.5  ],\n",
       "       [ 1.   ,  1.   ,  2.853, 51.12 ,  0.   , 42.   ,  2.3  ],\n",
       "       [ 1.   ,  1.   ,  2.777, 38.6  ,  1.   , 24.   , -2.5  ],\n",
       "       [ 1.   ,  1.   ,  1.977, 49.07 ,  0.   , 41.   , -3.6  ],\n",
       "       [ 1.   ,  1.   ,  3.784, 45.44 ,  0.   , 12.   , -1.9  ],\n",
       "       [ 1.   ,  1.   ,  3.043, 62.5  ,  0.   , 25.   , -1.9  ],\n",
       "       [ 1.   ,  1.   ,  5.618, 52.44 ,  0.   , 27.   ,  1.1  ],\n",
       "       [ 1.   ,  1.   ,  7.374, 38.25 ,  0.   , 36.   ,  3.1  ],\n",
       "       [ 1.   ,  1.   ,  3.09 , 56.77 ,  0.   , 49.   , -1.7  ],\n",
       "       [ 1.   ,  1.   ,  6.178, 61.51 ,  1.   ,  6.   , -2.5  ],\n",
       "       [ 1.   ,  1.   ,  4.605, 58.22 ,  0.   , 41.   ,  0.2  ],\n",
       "       [ 1.   ,  1.   ,  1.968, 65.84 ,  0.   , 76.   ,  3.5  ],\n",
       "       [ 1.   ,  1.   ,  3.61 , 45.18 ,  1.   , 43.   ,  2.5  ],\n",
       "       [ 1.   ,  1.   ,  9.896, 65.18 ,  0.   , 69.   ,  2.3  ]])"
      ]
     },
     "execution_count": 90,
     "metadata": {},
     "output_type": "execute_result"
    }
   ],
   "source": [
    "# adding a column of ones to X_train\n",
    "X_train = np.hstack((np.ones((X_train.shape[0], 1)), X_train))\n",
    "X_train"
   ]
  },
  {
   "cell_type": "code",
   "execution_count": 91,
   "id": "f95f8e64",
   "metadata": {},
   "outputs": [
    {
     "data": {
      "text/plain": [
       "array([[ 1.79223696e-01,  1.79223696e-01, -7.70448957e-03,\n",
       "        -5.51191669e-03, -6.03476345e-02, -1.31260569e-03,\n",
       "         7.08364373e-03],\n",
       "       [ 1.79223696e-01,  1.79223696e-01, -7.70448957e-03,\n",
       "        -5.51191669e-03, -6.03476345e-02, -1.31260569e-03,\n",
       "         7.08364373e-03],\n",
       "       [-7.70448957e-03, -7.70448957e-03,  3.74383963e-03,\n",
       "        -1.43240965e-04,  4.85835606e-03,  1.53264469e-04,\n",
       "        -1.63683045e-03],\n",
       "       [-5.51191669e-03, -5.51191669e-03, -1.43240965e-04,\n",
       "         2.69855722e-04,  1.30388694e-03, -4.84086991e-05,\n",
       "         1.75956809e-04],\n",
       "       [-6.03476345e-02, -6.03476345e-02,  4.85835606e-03,\n",
       "         1.30388694e-03,  1.88171717e-01,  1.38157785e-04,\n",
       "        -1.46562315e-03],\n",
       "       [-1.31260569e-03, -1.31260569e-03,  1.53264469e-04,\n",
       "        -4.84086991e-05,  1.38157785e-04,  1.46161890e-04,\n",
       "        -4.51876741e-04],\n",
       "       [ 7.08364373e-03,  7.08364373e-03, -1.63683045e-03,\n",
       "         1.75956809e-04, -1.46562315e-03, -4.51876741e-04,\n",
       "         5.47896608e-03]])"
      ]
     },
     "execution_count": 91,
     "metadata": {},
     "output_type": "execute_result"
    }
   ],
   "source": [
    "# computing the pseudo-inverse of (X^T*X)\n",
    "X_tran_pinv_X = np.linalg.pinv(np.dot(X_train.T, X_train))\n",
    "X_tran_pinv_X"
   ]
  },
  {
   "cell_type": "code",
   "execution_count": 92,
   "id": "9ab27b6c",
   "metadata": {},
   "outputs": [
    {
     "data": {
      "text/plain": [
       "array([-3.91598187, -3.91598187,  3.26458338,  0.16631204, 12.19246692,\n",
       "        0.38231333, -1.58835343])"
      ]
     },
     "execution_count": 92,
     "metadata": {},
     "output_type": "execute_result"
    }
   ],
   "source": [
    "# computing the weights\n",
    "weight = np.dot(np.dot(X_tran_pinv_X, X_train.T), y_train)\n",
    "weight"
   ]
  },
  {
   "cell_type": "code",
   "execution_count": 93,
   "id": "ef109712",
   "metadata": {},
   "outputs": [
    {
     "data": {
      "text/plain": [
       "array([46.00989848, 14.28209844, 17.016938  , 31.67512079,  8.27610001,\n",
       "       30.05525777, 22.23380488, 23.67253722, 23.82960703, 42.7980017 ,\n",
       "       30.35890257, 19.74359354,  2.03038794, 18.89733308, 24.21382766,\n",
       "       22.2672154 , 22.40632288, 24.40462873, 23.33061978, 33.65574554,\n",
       "       19.07939298, 46.29102151, 25.82780273, 28.29453625, 27.99148376,\n",
       "       32.64119327, 27.55296899, 22.38771132, 32.9922996 , 28.17596851,\n",
       "       19.68407044, 25.07237092, 27.80514037, 31.44189406, 33.13068768,\n",
       "       41.02371652, 32.24130577, 33.03929752, 36.12821698, 58.04097939])"
      ]
     },
     "execution_count": 93,
     "metadata": {},
     "output_type": "execute_result"
    }
   ],
   "source": [
    "# generating y values from the new generated w values\n",
    "y_pred_train = np.dot(X_train, weight)\n",
    "y_pred_train"
   ]
  },
  {
   "cell_type": "markdown",
   "id": "543f5ad0",
   "metadata": {},
   "source": [
    "**Computing the training predictions**"
   ]
  },
  {
   "cell_type": "code",
   "execution_count": 94,
   "id": "e17a161d",
   "metadata": {},
   "outputs": [],
   "source": [
    "SSR_train = np.sum((y_train - y_pred_train) ** 2)\n",
    "MSR_train = SSR_train / (len(y_train))\n",
    "RMSE_train = np.sqrt(MSR_train)"
   ]
  },
  {
   "cell_type": "code",
   "execution_count": 95,
   "id": "41ff0f56",
   "metadata": {},
   "outputs": [
    {
     "name": "stdout",
     "output_type": "stream",
     "text": [
      "Training SSR: 2.9056340032037906\n"
     ]
    }
   ],
   "source": [
    "print(\"Training SSR:\", SSR_train)"
   ]
  },
  {
   "cell_type": "code",
   "execution_count": 96,
   "id": "b8b32fe0",
   "metadata": {},
   "outputs": [
    {
     "name": "stdout",
     "output_type": "stream",
     "text": [
      "Training MSR_train: 0.07264085008009477\n"
     ]
    }
   ],
   "source": [
    "print(\"Training MSR_train:\", MSR_train)"
   ]
  },
  {
   "cell_type": "code",
   "execution_count": 97,
   "id": "51b6a3e2",
   "metadata": {},
   "outputs": [
    {
     "name": "stdout",
     "output_type": "stream",
     "text": [
      "Training RMSE_train: 0.2695196654793389\n"
     ]
    }
   ],
   "source": [
    "print(\"Training RMSE_train:\", RMSE_train)"
   ]
  },
  {
   "cell_type": "markdown",
   "id": "9dbbd649",
   "metadata": {},
   "source": [
    "**Test Error Computation**"
   ]
  },
  {
   "cell_type": "code",
   "execution_count": 98,
   "id": "5c9993f9",
   "metadata": {},
   "outputs": [],
   "source": [
    "# getting X_test and y_test values from rows 43 to 50 in matrices\n",
    "X_test = np_df.iloc[42:51, :6]\n",
    "y_test = np_df.iloc[42:51, -1]"
   ]
  },
  {
   "cell_type": "code",
   "execution_count": 99,
   "id": "9787f1d9",
   "metadata": {},
   "outputs": [
    {
     "data": {
      "text/plain": [
       "(8, 6)"
      ]
     },
     "execution_count": 99,
     "metadata": {},
     "output_type": "execute_result"
    }
   ],
   "source": [
    "X_test.shape"
   ]
  },
  {
   "cell_type": "code",
   "execution_count": 100,
   "id": "88305fa5",
   "metadata": {},
   "outputs": [
    {
     "data": {
      "text/plain": [
       "(8,)"
      ]
     },
     "execution_count": 100,
     "metadata": {},
     "output_type": "execute_result"
    }
   ],
   "source": [
    "y_test.shape"
   ]
  },
  {
   "cell_type": "code",
   "execution_count": 101,
   "id": "38c7c872",
   "metadata": {},
   "outputs": [
    {
     "data": {
      "text/plain": [
       "array([[ 1.   ,  1.   ,  4.545, 39.25 ,  1.   , 18.   ,  2.2  ],\n",
       "       [ 1.   ,  1.   ,  3.121, 36.89 ,  0.   , 20.   ,  4.1  ],\n",
       "       [ 1.   ,  1.   ,  4.698, 40.65 ,  0.   ,  8.   , -1.8  ],\n",
       "       [ 1.   ,  1.   , -0.328, 49.64 ,  0.   , 18.   ,  0.5  ],\n",
       "       [ 1.   ,  1.   ,  5.216, 44.49 ,  1.   , 11.   ,  3.2  ],\n",
       "       [ 1.   ,  1.   , -2.111, 51.31 ,  0.   , 25.   ,  2.6  ],\n",
       "       [ 1.   ,  1.   ,  6.804, 36.12 ,  0.   , 24.   ,  3.   ],\n",
       "       [ 1.   ,  1.   ,  5.643, 39.06 ,  0.   , 35.   , -1.9  ]])"
      ]
     },
     "execution_count": 101,
     "metadata": {},
     "output_type": "execute_result"
    }
   ],
   "source": [
    "# adding a column of ones to X_train\n",
    "X_test = np.hstack((np.ones((X_test.shape[0], 1)), X_test))\n",
    "X_test"
   ]
  },
  {
   "cell_type": "code",
   "execution_count": 102,
   "id": "4093f266",
   "metadata": {},
   "outputs": [
    {
     "data": {
      "text/plain": [
       "array([[ 1.51486724e+01,  1.51486724e+01, -1.09976635e+00,\n",
       "        -6.03206809e-01,  2.07463334e+00, -4.68405947e-02,\n",
       "        -3.95966899e-01],\n",
       "       [ 1.51486724e+01,  1.51486724e+01, -1.09976635e+00,\n",
       "        -6.03206809e-01,  2.07463334e+00, -4.68405947e-02,\n",
       "        -3.95966899e-01],\n",
       "       [-1.09976635e+00, -1.09976635e+00,  9.57534797e-02,\n",
       "         4.39348136e-02, -2.10745902e-01,  1.01292220e-03,\n",
       "         3.28576799e-02],\n",
       "       [-6.03206809e-01, -6.03206809e-01,  4.39348136e-02,\n",
       "         2.45960881e-02, -9.21008368e-02,  8.97635839e-04,\n",
       "         1.52728405e-02],\n",
       "       [ 2.07463334e+00,  2.07463334e+00, -2.10745902e-01,\n",
       "        -9.21008368e-02,  1.34061316e+00,  1.55378932e-02,\n",
       "        -1.22359952e-01],\n",
       "       [-4.68405947e-02, -4.68405947e-02,  1.01292220e-03,\n",
       "         8.97635839e-04,  1.55378932e-02,  2.42484659e-03,\n",
       "         1.68681986e-04],\n",
       "       [-3.95966899e-01, -3.95966899e-01,  3.28576799e-02,\n",
       "         1.52728405e-02, -1.22359952e-01,  1.68681986e-04,\n",
       "         4.14859705e-02]])"
      ]
     },
     "execution_count": 102,
     "metadata": {},
     "output_type": "execute_result"
    }
   ],
   "source": [
    "# computing the pseudo-inverse of (X^T*X)\n",
    "X_tran_pinv_X1 = np.linalg.pinv(np.dot(X_test.T, X_test))\n",
    "X_tran_pinv_X1"
   ]
  },
  {
   "cell_type": "code",
   "execution_count": 103,
   "id": "61499ce7",
   "metadata": {},
   "outputs": [
    {
     "data": {
      "text/plain": [
       "array([-4.22337995, -4.22337995,  3.30122301,  0.17615777, 11.99000893,\n",
       "        0.39546987, -1.57959521])"
      ]
     },
     "execution_count": 103,
     "metadata": {},
     "output_type": "execute_result"
    }
   ],
   "source": [
    "# computing the weights\n",
    "weight1 = np.dot(np.dot(X_tran_pinv_X1, X_test.T), y_test)\n",
    "weight1"
   ]
  },
  {
   "cell_type": "code",
   "execution_count": 104,
   "id": "2ac919c7",
   "metadata": {},
   "outputs": [
    {
     "data": {
      "text/plain": [
       "array([29.10484845,  9.78787445, 20.23022966,  5.54357092, 27.89515155,\n",
       "       -0.59718708, 25.13007152, 33.90544053])"
      ]
     },
     "execution_count": 104,
     "metadata": {},
     "output_type": "execute_result"
    }
   ],
   "source": [
    "# generating y values from the new generated w values\n",
    "y_pred_test = np.dot(X_test, weight1)\n",
    "y_pred_test"
   ]
  },
  {
   "cell_type": "markdown",
   "id": "4a123e65",
   "metadata": {},
   "source": [
    "**Computing test predictions**"
   ]
  },
  {
   "cell_type": "code",
   "execution_count": 105,
   "id": "2ef3c263",
   "metadata": {},
   "outputs": [],
   "source": [
    "SSR_test = np.sum((y_test - y_pred_test) ** 2)\n",
    "MSR_test = SSR_test / (len(y_test))\n",
    "RMSE_test = np.sqrt(MSR_test)"
   ]
  },
  {
   "cell_type": "code",
   "execution_count": 106,
   "id": "4402769d",
   "metadata": {},
   "outputs": [
    {
     "name": "stdout",
     "output_type": "stream",
     "text": [
      "Test SSR: 0.5164351933231227\n"
     ]
    }
   ],
   "source": [
    "print(\"Test SSR:\", SSR_test)"
   ]
  },
  {
   "cell_type": "code",
   "execution_count": 107,
   "id": "8784a2d3",
   "metadata": {},
   "outputs": [
    {
     "name": "stdout",
     "output_type": "stream",
     "text": [
      "Test MSR_test: 0.06455439916539034\n"
     ]
    }
   ],
   "source": [
    "print(\"Test MSR_test:\", MSR_test)"
   ]
  },
  {
   "cell_type": "code",
   "execution_count": 108,
   "id": "0c05bfb5",
   "metadata": {},
   "outputs": [
    {
     "name": "stdout",
     "output_type": "stream",
     "text": [
      "Test RMSE_test: 0.25407557766418704\n"
     ]
    }
   ],
   "source": [
    "print(\"Test RMSE_test:\", RMSE_test)"
   ]
  },
  {
   "cell_type": "markdown",
   "id": "a84b36df",
   "metadata": {},
   "source": [
    "### Regularized Newton method computation with λ = 0.17"
   ]
  },
  {
   "cell_type": "markdown",
   "id": "554bba38",
   "metadata": {},
   "source": [
    "**Regularized Newton Method - Training Computation**"
   ]
  },
  {
   "cell_type": "code",
   "execution_count": 109,
   "id": "b03cf6f4",
   "metadata": {},
   "outputs": [],
   "source": [
    "# declaring lambda as 0.17\n",
    "lambda_reg = 0.17"
   ]
  },
  {
   "cell_type": "code",
   "execution_count": 110,
   "id": "cdaa0f8b",
   "metadata": {},
   "outputs": [
    {
     "data": {
      "text/plain": [
       "array([[ 3.10955194e+00, -2.77280100e+00, -7.21155221e-03,\n",
       "        -5.18430128e-03, -5.51208106e-02, -1.23548021e-03,\n",
       "         6.65624171e-03],\n",
       "       [-2.77280100e+00,  3.10955194e+00, -7.21155221e-03,\n",
       "        -5.18430128e-03, -5.51208106e-02, -1.23548021e-03,\n",
       "         6.65624171e-03],\n",
       "       [-7.21155221e-03, -7.21155221e-03,  3.71835782e-03,\n",
       "        -1.57619450e-04,  4.56104176e-03,  1.49712910e-04,\n",
       "        -1.61576960e-03],\n",
       "       [-5.18430128e-03, -5.18430128e-03, -1.57619450e-04,\n",
       "         2.59861018e-04,  1.16051135e-03, -5.07276503e-05,\n",
       "         1.88500927e-04],\n",
       "       [-5.51208106e-02, -5.51208106e-02,  4.56104176e-03,\n",
       "         1.16051135e-03,  1.81238711e-01,  1.09090690e-04,\n",
       "        -1.28527139e-03],\n",
       "       [-1.23548021e-03, -1.23548021e-03,  1.49712910e-04,\n",
       "        -5.07276503e-05,  1.09090690e-04,  1.45565569e-04,\n",
       "        -4.48401970e-04],\n",
       "       [ 6.65624171e-03,  6.65624171e-03, -1.61576960e-03,\n",
       "         1.88500927e-04, -1.28527139e-03, -4.48401970e-04,\n",
       "         5.45704218e-03]])"
      ]
     },
     "execution_count": 110,
     "metadata": {},
     "output_type": "execute_result"
    }
   ],
   "source": [
    "# computing the pseudo-inverse of (X'X+lambda*I)^-1)\n",
    "X_tran_reg_pinv_X = np.linalg.pinv(np.dot(X_train.T, X_train) + lambda_reg * np.eye(X_train.shape[1]))\n",
    "X_tran_reg_pinv_X"
   ]
  },
  {
   "cell_type": "code",
   "execution_count": 111,
   "id": "757bdd94",
   "metadata": {
    "scrolled": false
   },
   "outputs": [
    {
     "data": {
      "text/plain": [
       "array([-3.57152464, -3.57152464,  3.24302274,  0.1571384 , 11.74050198,\n",
       "        0.38023007, -1.57443304])"
      ]
     },
     "execution_count": 111,
     "metadata": {},
     "output_type": "execute_result"
    }
   ],
   "source": [
    "# computing the weights\n",
    "weight_reg = np.dot(np.dot(X_tran_reg_pinv_X, X_train.T), y_train)\n",
    "weight_reg"
   ]
  },
  {
   "cell_type": "code",
   "execution_count": 112,
   "id": "18a693a6",
   "metadata": {},
   "outputs": [
    {
     "data": {
      "text/plain": [
       "array([45.80796927, 14.54418331, 17.16288353, 31.84466659,  8.51378572,\n",
       "       30.17918901, 22.42595051, 23.81753544, 23.8175737 , 42.85795996,\n",
       "       30.53552725, 19.96313369,  2.30989592, 18.94246548, 24.40125817,\n",
       "       22.26944028, 22.23957368, 24.55493279, 23.17000144, 33.60310345,\n",
       "       19.26252338, 45.9592231 , 25.57086236, 28.25835487, 28.08454158,\n",
       "       32.72862332, 27.58368188, 22.49067632, 32.7304732 , 28.23657954,\n",
       "       19.82310111, 25.0437932 , 27.85092551, 31.58908412, 33.10644728,\n",
       "       40.51589299, 32.21421409, 32.97218107, 35.8180879 , 57.80686318])"
      ]
     },
     "execution_count": 112,
     "metadata": {},
     "output_type": "execute_result"
    }
   ],
   "source": [
    "y_pred_train_reg = np.dot(X_train, weight_reg)\n",
    "y_pred_train_reg"
   ]
  },
  {
   "cell_type": "markdown",
   "id": "de086c68",
   "metadata": {},
   "source": [
    "**Regularized Newton Method - Testing Computation**"
   ]
  },
  {
   "cell_type": "code",
   "execution_count": 113,
   "id": "396e82e8",
   "metadata": {},
   "outputs": [
    {
     "data": {
      "text/plain": [
       "array([[ 5.38048147e+00, -5.01871476e-01, -1.73705950e-01,\n",
       "        -9.66703711e-02,  2.81002483e-01, -8.68499136e-03,\n",
       "        -6.00759184e-02],\n",
       "       [-5.01871476e-01,  5.38048147e+00, -1.73705950e-01,\n",
       "        -9.66703711e-02,  2.81002483e-01, -8.68499136e-03,\n",
       "        -6.00759184e-02],\n",
       "       [-1.73705950e-01, -1.73705950e-01,  2.77180790e-02,\n",
       "         6.94469159e-03, -7.08120541e-02, -1.57184609e-03,\n",
       "         7.77126904e-03],\n",
       "       [-9.66703711e-02, -9.66703711e-02,  6.94469159e-03,\n",
       "         4.39475501e-03, -1.91834128e-02, -5.92919083e-04,\n",
       "         1.79633785e-03],\n",
       "       [ 2.81002483e-01,  2.81002483e-01, -7.08120541e-02,\n",
       "        -1.91834128e-02,  9.26927863e-01,  1.75743788e-02,\n",
       "        -6.43490606e-02],\n",
       "       [-8.68499136e-03, -8.68499136e-03, -1.57184609e-03,\n",
       "        -5.92919083e-04,  1.75743788e-02,  2.23956517e-03,\n",
       "        -6.20369010e-04],\n",
       "       [-6.00759184e-02, -6.00759184e-02,  7.77126904e-03,\n",
       "         1.79633785e-03, -6.43490606e-02, -6.20369010e-04,\n",
       "         3.17872496e-02]])"
      ]
     },
     "execution_count": 113,
     "metadata": {},
     "output_type": "execute_result"
    }
   ],
   "source": [
    "# computing the pseudo-inverse of (X'X+lambda*I)^-1)\n",
    "X_tran_reg_pinv_X1 = np.linalg.pinv(np.dot(X_test.T, X_test) + lambda_reg * np.eye(X_test.shape[1]))\n",
    "X_tran_reg_pinv_X1"
   ]
  },
  {
   "cell_type": "code",
   "execution_count": 114,
   "id": "ae151007",
   "metadata": {},
   "outputs": [
    {
     "data": {
      "text/plain": [
       "array([-1.20859797, -1.20859797,  3.18255534,  0.07293882, 10.52600926,\n",
       "        0.34775951, -1.5305359 ])"
      ]
     },
     "execution_count": 114,
     "metadata": {},
     "output_type": "execute_result"
    }
   ],
   "source": [
    "# computing the weights\n",
    "weight_reg_test = np.dot(np.dot(X_tran_reg_pinv_X1, X_test.T), y_test)\n",
    "weight_reg_test"
   ]
  },
  {
   "cell_type": "code",
   "execution_count": 115,
   "id": "b87144bd",
   "metadata": {},
   "outputs": [
    {
     "data": {
      "text/plain": [
       "array([28.32886843, 10.88626556, 21.03645295,  5.65401242, 26.88171   ,\n",
       "       -0.67848471, 25.62608152, 33.47055549])"
      ]
     },
     "execution_count": 115,
     "metadata": {},
     "output_type": "execute_result"
    }
   ],
   "source": [
    "y_pred_test_reg = np.dot(X_test, weight_reg_test)\n",
    "y_pred_test_reg"
   ]
  },
  {
   "cell_type": "markdown",
   "id": "236bb218",
   "metadata": {},
   "source": [
    "**Computing the train and test predictions for Regularized Newton Method**"
   ]
  },
  {
   "cell_type": "code",
   "execution_count": 116,
   "id": "33392093",
   "metadata": {},
   "outputs": [],
   "source": [
    "SSR_train_reg = np.sum((y_train - y_pred_train_reg)**2)\n",
    "MSR_train_reg = SSR_train_reg / (len(y_train))\n",
    "RMSE_train_reg = np.sqrt(MSR_train_reg)"
   ]
  },
  {
   "cell_type": "code",
   "execution_count": 117,
   "id": "7bd2036b",
   "metadata": {},
   "outputs": [
    {
     "name": "stdout",
     "output_type": "stream",
     "text": [
      "Training SSR_Reg: 4.241977175181848\n"
     ]
    }
   ],
   "source": [
    "print(\"Training SSR_Reg:\", SSR_train_reg)"
   ]
  },
  {
   "cell_type": "code",
   "execution_count": 118,
   "id": "3ff7d271",
   "metadata": {},
   "outputs": [
    {
     "name": "stdout",
     "output_type": "stream",
     "text": [
      "Training MSR_Reg: 0.1060494293795462\n"
     ]
    }
   ],
   "source": [
    "print(\"Training MSR_Reg:\", MSR_train_reg)"
   ]
  },
  {
   "cell_type": "code",
   "execution_count": 119,
   "id": "9b56d23b",
   "metadata": {},
   "outputs": [
    {
     "name": "stdout",
     "output_type": "stream",
     "text": [
      "Training RMSE_Reg: 0.32565231364070824\n"
     ]
    }
   ],
   "source": [
    "print(\"Training RMSE_Reg:\", RMSE_train_reg)"
   ]
  },
  {
   "cell_type": "code",
   "execution_count": 120,
   "id": "6b3a800f",
   "metadata": {},
   "outputs": [],
   "source": [
    "SSR_test_reg = np.sum((y_test - y_pred_test_reg) ** 2)\n",
    "MSR_test_reg = SSR_test_reg / (len(y_test))\n",
    "RMSE_test_reg = np.sqrt(MSR_test_reg)"
   ]
  },
  {
   "cell_type": "code",
   "execution_count": 121,
   "id": "6899f1a7",
   "metadata": {},
   "outputs": [
    {
     "name": "stdout",
     "output_type": "stream",
     "text": [
      "Testing SSR_Reg: 4.456060534201329\n"
     ]
    }
   ],
   "source": [
    "print(\"Testing SSR_Reg:\", SSR_test_reg)"
   ]
  },
  {
   "cell_type": "code",
   "execution_count": 122,
   "id": "761457f2",
   "metadata": {},
   "outputs": [
    {
     "name": "stdout",
     "output_type": "stream",
     "text": [
      "Testing MSR_Reg: 0.5570075667751662\n"
     ]
    }
   ],
   "source": [
    "print(\"Testing MSR_Reg:\", MSR_test_reg)"
   ]
  },
  {
   "cell_type": "code",
   "execution_count": 123,
   "id": "1251ce41",
   "metadata": {},
   "outputs": [
    {
     "name": "stdout",
     "output_type": "stream",
     "text": [
      "Testing RMSE_Reg: 0.7463293956257961\n"
     ]
    }
   ],
   "source": [
    "print(\"Testing RMSE_Reg:\", RMSE_test_reg)"
   ]
  },
  {
   "cell_type": "markdown",
   "id": "ae1bf934",
   "metadata": {},
   "source": [
    "### MSR on train, MSR on test, R-squared on train and R-squared on test for the following:"
   ]
  },
  {
   "cell_type": "code",
   "execution_count": 124,
   "id": "4f2cebbf",
   "metadata": {},
   "outputs": [],
   "source": [
    "# defining r-squared function\n",
    "def r_squared(y_actual, y_pred):\n",
    "    ss_total = np.sum((y_actual - np.mean(y_actual)) ** 2)\n",
    "    ss_res = np.sum((y_actual - y_pred) ** 2)\n",
    "    return 1 - (ss_res / ss_total)"
   ]
  },
  {
   "cell_type": "code",
   "execution_count": 125,
   "id": "a794c715",
   "metadata": {},
   "outputs": [],
   "source": [
    "# creating a function for the computation of MSR and R-Squared\n",
    "def computations(train_rows, test_rows, lambda_val):\n",
    "    \n",
    "    # extracting X and y values for training\n",
    "    X_train = np_df.iloc[train_rows[0]:train_rows[1], :6].values\n",
    "    y_train = np_df.iloc[train_rows[0]:train_rows[1], :6].values\n",
    "    X_train = np.hstack((np.ones((X_train.shape[0], 1)), X_train))\n",
    "    \n",
    "    # extracting X and y values for test\n",
    "    X_test = np_df.iloc[test_rows[0]:test_rows[1], :6].values\n",
    "    y_test = np_df.iloc[test_rows[0]:test_rows[1], :6].values\n",
    "    X_test = np.hstack((np.ones((X_test.shape[0], 1)), X_test))\n",
    "    \n",
    "    # regularizing Newton method\n",
    "    # training computation\n",
    "    X_reg_pinv_train = np.linalg.pinv(np.dot(X_train.T, X_train) + lambda_val * np.eye(X_train.shape[1])) \n",
    "    weight_reg_train = np.dot(np.dot(X_reg_pinv_train, X_train.T), y_train)\n",
    "    \n",
    "    # testing computation\n",
    "    X_reg_pinv_test = np.linalg.pinv(np.dot(X_test.T, X_test) + lambda_val * np.eye(X_test.shape[1])) \n",
    "    weight_reg_test = np.dot(np.dot(X_reg_pinv_test, X_test.T), y_test)\n",
    "    \n",
    "    # generating y values from the weights\n",
    "    y_pred_train_reg = np.dot(X_train, weight_reg_train)\n",
    "    y_pred_test_reg = np.dot(X_test, weight_reg_test)\n",
    "    \n",
    "    # computing SSR and MSR for training\n",
    "    SSR_train_reg = np.sum((y_train - y_pred_train_reg) ** 2)\n",
    "    MSR_train_reg = SSR_train_reg / (len(y_train))\n",
    "    \n",
    "    # computing SSR and MSR for testing\n",
    "    SSR_test_reg = np.sum((y_test - y_pred_test_reg) ** 2)\n",
    "    MSR_test_reg = SSR_test_reg / (len(y_test))\n",
    "    \n",
    "    # computing R-squared values\n",
    "    R2_train_reg = r_squared(y_train, y_pred_train_reg)\n",
    "    R2_test_reg = r_squared(y_test, y_pred_test_reg)\n",
    "    \n",
    "    return MSR_train_reg, MSR_test_reg, R2_train_reg, R2_test_reg"
   ]
  },
  {
   "cell_type": "markdown",
   "id": "ab31628a",
   "metadata": {},
   "source": [
    "**1. Use only rows 2 to 41 for training and rows 42 to 51 for testing and lambda as 0.83**\n",
    "\n",
    "**2. Use only rows 2 to 26 for training and rows 27 to 51 for testing and lambda as 0.17**\n",
    "\n",
    "**3. Use only rows 2 to 26 for training and rows 27 to 51 for testing and lambda as 0.83**\n",
    "\n",
    "**4. Use only rows 2 to 11 for training and rows 12 to 51 for testing and lambda as 0.17**\n",
    "\n",
    "**5. Use only rows 2 to 11 for training and rows 12 to 51 for testing and lambda as 0.83**"
   ]
  },
  {
   "cell_type": "code",
   "execution_count": 126,
   "id": "d454bcc3",
   "metadata": {},
   "outputs": [
    {
     "name": "stdout",
     "output_type": "stream",
     "text": [
      "\n",
      "Case 1: \n",
      "MSR Train: 0.00428586969491983, \n",
      "MSR Test: 0.02777351095522945, \n",
      "R-squared Train: 0.9999981579049236, \n",
      "R-squared Test: 0.9999826741680861\n",
      "\n",
      "Case 2: \n",
      "MSR Train: 0.0007181400881850452, \n",
      "MSR Test: 0.0007063155994490736, \n",
      "R-squared Train: 0.9999996183026731, \n",
      "R-squared Test: 0.9999997188042986\n",
      "\n",
      "Case 3: \n",
      "MSR Train: 0.009844520890579647, \n",
      "MSR Test: 0.009789692077646612, \n",
      "R-squared Train: 0.9999947675566785, \n",
      "R-squared Test: 0.9999961025647283\n",
      "\n",
      "Case 4: \n",
      "MSR Train: 0.0014206402809189944, \n",
      "MSR Test: 0.00025047051091760253, \n",
      "R-squared Train: 0.9999992385432711, \n",
      "R-squared Test: 0.9999998901148855\n",
      "\n",
      "Case 5: \n",
      "MSR Train: 0.013155322708161258, \n",
      "MSR Test: 0.0041967011103176514, \n",
      "R-squared Train: 0.9999929488068645, \n",
      "R-squared Test: 0.9999981588452056\n"
     ]
    }
   ],
   "source": [
    "# computation for above examples\n",
    "\n",
    "results = []\n",
    "\n",
    "scenarios = [\n",
    "    ([1, 41], [41, 51], 0.83),\n",
    "    ([1, 26], [26, 51], 0.17),\n",
    "    ([1, 26], [26, 51], 0.83),\n",
    "    ([1, 11], [11, 51], 0.17),\n",
    "    ([1, 11], [11, 51], 0.83),\n",
    "]\n",
    "\n",
    "for scenario in scenarios:\n",
    "    results.append(computations(*scenario))\n",
    "\n",
    "# Print results\n",
    "for i, result in enumerate(results):\n",
    "    print(f\"\\nCase {i + 1}: \\nMSR Train: {result[0]}, \\nMSR Test: {result[1]}, \\nR-squared Train: {result[2]}, \\nR-squared Test: {result[3]}\")"
   ]
  }
 ],
 "metadata": {
  "kernelspec": {
   "display_name": "Python 3 (ipykernel)",
   "language": "python",
   "name": "python3"
  },
  "language_info": {
   "codemirror_mode": {
    "name": "ipython",
    "version": 3
   },
   "file_extension": ".py",
   "mimetype": "text/x-python",
   "name": "python",
   "nbconvert_exporter": "python",
   "pygments_lexer": "ipython3",
   "version": "3.11.5"
  }
 },
 "nbformat": 4,
 "nbformat_minor": 5
}
