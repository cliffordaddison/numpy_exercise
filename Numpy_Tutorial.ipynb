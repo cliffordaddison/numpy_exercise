{
 "cells": [
  {
   "cell_type": "code",
   "execution_count": 1,
   "id": "dcdad545",
   "metadata": {},
   "outputs": [],
   "source": [
    "import numpy as np"
   ]
  },
  {
   "cell_type": "code",
   "execution_count": 2,
   "id": "afdc6d64",
   "metadata": {},
   "outputs": [],
   "source": [
    "array = np.array([1,2,3])"
   ]
  },
  {
   "cell_type": "code",
   "execution_count": 3,
   "id": "add950d5",
   "metadata": {},
   "outputs": [
    {
     "data": {
      "text/plain": [
       "array([1, 2, 3])"
      ]
     },
     "execution_count": 3,
     "metadata": {},
     "output_type": "execute_result"
    }
   ],
   "source": [
    "array"
   ]
  },
  {
   "cell_type": "code",
   "execution_count": 4,
   "id": "759681a0",
   "metadata": {},
   "outputs": [
    {
     "data": {
      "text/plain": [
       "array([3, 6, 9])"
      ]
     },
     "execution_count": 4,
     "metadata": {},
     "output_type": "execute_result"
    }
   ],
   "source": [
    "array * 3"
   ]
  },
  {
   "cell_type": "code",
   "execution_count": 7,
   "id": "aac94419",
   "metadata": {},
   "outputs": [
    {
     "data": {
      "text/plain": [
       "array([1, 2, 3])"
      ]
     },
     "execution_count": 7,
     "metadata": {},
     "output_type": "execute_result"
    }
   ],
   "source": [
    "array"
   ]
  },
  {
   "cell_type": "markdown",
   "id": "10aec497",
   "metadata": {},
   "source": [
    "## 02_01 Array types and conversions between types"
   ]
  },
  {
   "cell_type": "code",
   "execution_count": 8,
   "id": "635edc21",
   "metadata": {},
   "outputs": [],
   "source": [
    "integers = np.array([10,20,20,40,50])"
   ]
  },
  {
   "cell_type": "code",
   "execution_count": 9,
   "id": "be0009d3",
   "metadata": {},
   "outputs": [
    {
     "data": {
      "text/plain": [
       "10"
      ]
     },
     "execution_count": 9,
     "metadata": {},
     "output_type": "execute_result"
    }
   ],
   "source": [
    "integers[0]"
   ]
  },
  {
   "cell_type": "code",
   "execution_count": 10,
   "id": "218c064b",
   "metadata": {},
   "outputs": [],
   "source": [
    "integers[0] = 20"
   ]
  },
  {
   "cell_type": "code",
   "execution_count": 11,
   "id": "9eb612b5",
   "metadata": {},
   "outputs": [
    {
     "data": {
      "text/plain": [
       "array([20, 20, 20, 40, 50])"
      ]
     },
     "execution_count": 11,
     "metadata": {},
     "output_type": "execute_result"
    }
   ],
   "source": [
    "integers"
   ]
  },
  {
   "cell_type": "code",
   "execution_count": 12,
   "id": "41a7a2b1",
   "metadata": {},
   "outputs": [
    {
     "data": {
      "text/plain": [
       "array([21, 20, 20, 40, 50])"
      ]
     },
     "execution_count": 12,
     "metadata": {},
     "output_type": "execute_result"
    }
   ],
   "source": [
    "integers[0] = 21.7\n",
    "integers"
   ]
  },
  {
   "cell_type": "code",
   "execution_count": 13,
   "id": "2d3f8e07",
   "metadata": {},
   "outputs": [
    {
     "data": {
      "text/plain": [
       "dtype('int32')"
      ]
     },
     "execution_count": 13,
     "metadata": {},
     "output_type": "execute_result"
    }
   ],
   "source": [
    "# Checking the data type\n",
    "integers.dtype"
   ]
  },
  {
   "cell_type": "code",
   "execution_count": 14,
   "id": "bfe8a98b",
   "metadata": {},
   "outputs": [
    {
     "data": {
      "text/plain": [
       "array([21, 20, 20, 40, 50], dtype=int8)"
      ]
     },
     "execution_count": 14,
     "metadata": {},
     "output_type": "execute_result"
    }
   ],
   "source": [
    "smallerIntegers = np.array(integers, dtype = np.int8)\n",
    "smallerIntegers"
   ]
  },
  {
   "cell_type": "code",
   "execution_count": 15,
   "id": "020bd603",
   "metadata": {},
   "outputs": [
    {
     "data": {
      "text/plain": [
       "20"
      ]
     },
     "execution_count": 15,
     "metadata": {},
     "output_type": "execute_result"
    }
   ],
   "source": [
    "integers.nbytes"
   ]
  },
  {
   "cell_type": "code",
   "execution_count": 16,
   "id": "f46ed423",
   "metadata": {},
   "outputs": [
    {
     "data": {
      "text/plain": [
       "5"
      ]
     },
     "execution_count": 16,
     "metadata": {},
     "output_type": "execute_result"
    }
   ],
   "source": [
    "smallerIntegers.nbytes"
   ]
  },
  {
   "cell_type": "markdown",
   "id": "9d230130",
   "metadata": {},
   "source": [
    "## Multidimensional Arrays"
   ]
  },
  {
   "cell_type": "code",
   "execution_count": 17,
   "id": "3c96469b",
   "metadata": {},
   "outputs": [
    {
     "data": {
      "text/plain": [
       "array([[ 1,  2,  3,  4,  5],\n",
       "       [ 6,  7,  8,  9, 10]])"
      ]
     },
     "execution_count": 17,
     "metadata": {},
     "output_type": "execute_result"
    }
   ],
   "source": [
    "nums = np.array([[1,2,3,4,5],[6,7,8,9,10]])\n",
    "nums"
   ]
  },
  {
   "cell_type": "code",
   "execution_count": 20,
   "id": "0a4cd922",
   "metadata": {},
   "outputs": [
    {
     "data": {
      "text/plain": [
       "1"
      ]
     },
     "execution_count": 20,
     "metadata": {},
     "output_type": "execute_result"
    }
   ],
   "source": [
    "nums[0,0]"
   ]
  },
  {
   "cell_type": "code",
   "execution_count": 21,
   "id": "7c7a77d7",
   "metadata": {},
   "outputs": [
    {
     "data": {
      "text/plain": [
       "10"
      ]
     },
     "execution_count": 21,
     "metadata": {},
     "output_type": "execute_result"
    }
   ],
   "source": [
    "nums[1,4]"
   ]
  },
  {
   "cell_type": "code",
   "execution_count": 22,
   "id": "ffed3c86",
   "metadata": {},
   "outputs": [
    {
     "data": {
      "text/plain": [
       "2"
      ]
     },
     "execution_count": 22,
     "metadata": {},
     "output_type": "execute_result"
    }
   ],
   "source": [
    "nums.ndim"
   ]
  },
  {
   "cell_type": "code",
   "execution_count": 29,
   "id": "594125c5",
   "metadata": {},
   "outputs": [
    {
     "data": {
      "text/plain": [
       "array([[[ 1,  2,  3],\n",
       "        [ 4,  5,  6]],\n",
       "\n",
       "       [[ 7,  8,  9],\n",
       "        [10, 11, 12]]])"
      ]
     },
     "execution_count": 29,
     "metadata": {},
     "output_type": "execute_result"
    }
   ],
   "source": [
    "# An array of two, two-dimensional array is a three dimensional array\n",
    "multi_arr = np.array([[[1,2,3],[4,5,6]],[[7,8,9],[10,11,12]]])\n",
    "multi_arr"
   ]
  },
  {
   "cell_type": "code",
   "execution_count": 30,
   "id": "35a6d5f4",
   "metadata": {},
   "outputs": [
    {
     "data": {
      "text/plain": [
       "3"
      ]
     },
     "execution_count": 30,
     "metadata": {},
     "output_type": "execute_result"
    }
   ],
   "source": [
    "multi_arr.ndim"
   ]
  },
  {
   "cell_type": "code",
   "execution_count": 31,
   "id": "af8e76f2",
   "metadata": {},
   "outputs": [
    {
     "data": {
      "text/plain": [
       "1"
      ]
     },
     "execution_count": 31,
     "metadata": {},
     "output_type": "execute_result"
    }
   ],
   "source": [
    "integers.ndim"
   ]
  },
  {
   "cell_type": "code",
   "execution_count": 32,
   "id": "eb69ec8e",
   "metadata": {},
   "outputs": [
    {
     "data": {
      "text/plain": [
       "12"
      ]
     },
     "execution_count": 32,
     "metadata": {},
     "output_type": "execute_result"
    }
   ],
   "source": [
    "multi_arr[1,1,2]"
   ]
  },
  {
   "cell_type": "code",
   "execution_count": 33,
   "id": "a52beb83",
   "metadata": {},
   "outputs": [
    {
     "data": {
      "text/plain": [
       "9"
      ]
     },
     "execution_count": 33,
     "metadata": {},
     "output_type": "execute_result"
    }
   ],
   "source": [
    "multi_arr[1,0,2]"
   ]
  },
  {
   "cell_type": "code",
   "execution_count": 34,
   "id": "bfc7a0e4",
   "metadata": {},
   "outputs": [
    {
     "data": {
      "text/plain": [
       "array([[[ 1,  2,  3],\n",
       "        [ 4,  5,  6],\n",
       "        [ 7,  8,  9]],\n",
       "\n",
       "       [[ 7,  8,  9],\n",
       "        [10, 11, 12],\n",
       "        [ 4,  5,  6]],\n",
       "\n",
       "       [[ 1,  2,  3],\n",
       "        [ 4,  5,  6],\n",
       "        [10, 11, 12]]])"
      ]
     },
     "execution_count": 34,
     "metadata": {},
     "output_type": "execute_result"
    }
   ],
   "source": [
    "three_d_arr = np.array([[[1,2,3],[4,5,6],[7,8,9]],[[7,8,9],[10,11,12],[4,5,6]],[[1,2,3],[4,5,6],[10,11,12]]])\n",
    "three_d_arr"
   ]
  },
  {
   "cell_type": "code",
   "execution_count": 35,
   "id": "2a8890a6",
   "metadata": {},
   "outputs": [
    {
     "data": {
      "text/plain": [
       "3"
      ]
     },
     "execution_count": 35,
     "metadata": {},
     "output_type": "execute_result"
    }
   ],
   "source": [
    "three_d_arr.ndim"
   ]
  },
  {
   "cell_type": "code",
   "execution_count": 36,
   "id": "16246a4e",
   "metadata": {},
   "outputs": [
    {
     "data": {
      "text/plain": [
       "12"
      ]
     },
     "execution_count": 36,
     "metadata": {},
     "output_type": "execute_result"
    }
   ],
   "source": [
    "three_d_arr[1,1,2]"
   ]
  },
  {
   "cell_type": "markdown",
   "id": "c9089542",
   "metadata": {},
   "source": [
    "## Creating arrays from Lists and other Python Structures"
   ]
  },
  {
   "cell_type": "code",
   "execution_count": 41,
   "id": "98382aea",
   "metadata": {},
   "outputs": [],
   "source": [
    "first_list = [i for i in range(1,11)]"
   ]
  },
  {
   "cell_type": "code",
   "execution_count": 42,
   "id": "ace4756a",
   "metadata": {},
   "outputs": [
    {
     "data": {
      "text/plain": [
       "[1, 2, 3, 4, 5, 6, 7, 8, 9, 10]"
      ]
     },
     "execution_count": 42,
     "metadata": {},
     "output_type": "execute_result"
    }
   ],
   "source": [
    "first_list"
   ]
  },
  {
   "cell_type": "code",
   "execution_count": 44,
   "id": "6eb62278",
   "metadata": {},
   "outputs": [
    {
     "data": {
      "text/plain": [
       "array([ 1,  2,  3,  4,  5,  6,  7,  8,  9, 10])"
      ]
     },
     "execution_count": 44,
     "metadata": {},
     "output_type": "execute_result"
    }
   ],
   "source": [
    "first_array = np.array(first_list)\n",
    "first_array"
   ]
  },
  {
   "cell_type": "markdown",
   "id": "45f70792",
   "metadata": {},
   "source": [
    "## Intrinsic NumPy Array Creation"
   ]
  },
  {
   "cell_type": "code",
   "execution_count": 46,
   "id": "e6efd6d7",
   "metadata": {},
   "outputs": [
    {
     "data": {
      "text/plain": [
       "array([1, 2, 3, 4, 5, 6, 7, 8, 9])"
      ]
     },
     "execution_count": 46,
     "metadata": {},
     "output_type": "execute_result"
    }
   ],
   "source": [
    "# \"arange\" works like a range in python\n",
    "int_arr = np.arange(1,10)\n",
    "int_arr"
   ]
  },
  {
   "cell_type": "code",
   "execution_count": 49,
   "id": "b1fcd063",
   "metadata": {},
   "outputs": [
    {
     "data": {
      "text/plain": [
       "array([100, 105, 110, 115, 120, 125, 130])"
      ]
     },
     "execution_count": 49,
     "metadata": {},
     "output_type": "execute_result"
    }
   ],
   "source": [
    "# \"arange\" with start, stop and step\n",
    "int_sec_arr = np.arange(100,131,5)\n",
    "int_sec_arr"
   ]
  },
  {
   "cell_type": "code",
   "execution_count": 50,
   "id": "4a37bc26",
   "metadata": {},
   "outputs": [
    {
     "data": {
      "text/plain": [
       "array([10.        , 10.10204082, 10.20408163, 10.30612245, 10.40816327,\n",
       "       10.51020408, 10.6122449 , 10.71428571, 10.81632653, 10.91836735,\n",
       "       11.02040816, 11.12244898, 11.2244898 , 11.32653061, 11.42857143,\n",
       "       11.53061224, 11.63265306, 11.73469388, 11.83673469, 11.93877551,\n",
       "       12.04081633, 12.14285714, 12.24489796, 12.34693878, 12.44897959,\n",
       "       12.55102041, 12.65306122, 12.75510204, 12.85714286, 12.95918367,\n",
       "       13.06122449, 13.16326531, 13.26530612, 13.36734694, 13.46938776,\n",
       "       13.57142857, 13.67346939, 13.7755102 , 13.87755102, 13.97959184,\n",
       "       14.08163265, 14.18367347, 14.28571429, 14.3877551 , 14.48979592,\n",
       "       14.59183673, 14.69387755, 14.79591837, 14.89795918, 15.        ])"
      ]
     },
     "execution_count": 50,
     "metadata": {},
     "output_type": "execute_result"
    }
   ],
   "source": [
    "# \"linspace\" works with floats and can create arrays according to the number specified as the step value\n",
    "# The array has equal spacing\n",
    "float_arr = np.linspace(10,15)\n",
    "float_arr"
   ]
  },
  {
   "cell_type": "code",
   "execution_count": 51,
   "id": "c166ba60",
   "metadata": {},
   "outputs": [
    {
     "data": {
      "text/plain": [
       "array([10.        , 10.20833333, 10.41666667, 10.625     , 10.83333333,\n",
       "       11.04166667, 11.25      , 11.45833333, 11.66666667, 11.875     ,\n",
       "       12.08333333, 12.29166667, 12.5       , 12.70833333, 12.91666667,\n",
       "       13.125     , 13.33333333, 13.54166667, 13.75      , 13.95833333,\n",
       "       14.16666667, 14.375     , 14.58333333, 14.79166667, 15.        ])"
      ]
     },
     "execution_count": 51,
     "metadata": {},
     "output_type": "execute_result"
    }
   ],
   "source": [
    "sec_float_arr = np.linspace(10,15,25)\n",
    "sec_float_arr"
   ]
  },
  {
   "cell_type": "code",
   "execution_count": 52,
   "id": "c2a2a065",
   "metadata": {},
   "outputs": [
    {
     "data": {
      "text/plain": [
       "array([0.26256294, 0.38148174, 0.2798168 , 0.12547607, 0.09624046,\n",
       "       0.51310049, 0.19536698, 0.11816418, 0.07662095, 0.53278852])"
      ]
     },
     "execution_count": 52,
     "metadata": {},
     "output_type": "execute_result"
    }
   ],
   "source": [
    "# Creating Random Arrays\n",
    "first_rand_arr = np.random.rand(10)\n",
    "first_rand_arr"
   ]
  },
  {
   "cell_type": "code",
   "execution_count": 55,
   "id": "54e6c0ed",
   "metadata": {},
   "outputs": [
    {
     "data": {
      "text/plain": [
       "array([[[0.94097278, 0.20888435, 0.77958928, 0.33271198],\n",
       "        [0.50149554, 0.20590888, 0.11887155, 0.08143128],\n",
       "        [0.84475332, 0.79218128, 0.74640067, 0.61687972],\n",
       "        [0.29370379, 0.07947026, 0.21623524, 0.62983949]],\n",
       "\n",
       "       [[0.60377749, 0.41575498, 0.26096171, 0.74229926],\n",
       "        [0.812862  , 0.78919442, 0.55621271, 0.5672895 ],\n",
       "        [0.60917894, 0.82586709, 0.14535487, 0.11685883],\n",
       "        [0.46787205, 0.60584765, 0.98971328, 0.17868419]],\n",
       "\n",
       "       [[0.01864741, 0.35002925, 0.45113947, 0.67878707],\n",
       "        [0.81713207, 0.00478134, 0.69825042, 0.81035067],\n",
       "        [0.05579171, 0.45012461, 0.47710846, 0.95841655],\n",
       "        [0.64628696, 0.10721023, 0.4191703 , 0.39152536]],\n",
       "\n",
       "       [[0.79340946, 0.86635134, 0.12115699, 0.49192259],\n",
       "        [0.83535731, 0.25440552, 0.8025375 , 0.31673   ],\n",
       "        [0.56141076, 0.54898556, 0.39627682, 0.40978385],\n",
       "        [0.81242439, 0.36408526, 0.43408155, 0.73798267]]])"
      ]
     },
     "execution_count": 55,
     "metadata": {},
     "output_type": "execute_result"
    }
   ],
   "source": [
    "# Creating two or three dimensional arrays of random numbers\n",
    "sec_rand_arr = np.random.rand(4,4,4)\n",
    "sec_rand_arr"
   ]
  },
  {
   "cell_type": "code",
   "execution_count": 54,
   "id": "9e31728c",
   "metadata": {},
   "outputs": [
    {
     "data": {
      "text/plain": [
       "3"
      ]
     },
     "execution_count": 54,
     "metadata": {},
     "output_type": "execute_result"
    }
   ],
   "source": [
    "sec_rand_arr.ndim"
   ]
  },
  {
   "cell_type": "code",
   "execution_count": 57,
   "id": "5d656e01",
   "metadata": {},
   "outputs": [
    {
     "data": {
      "text/plain": [
       "array([[[[0.71266182, 0.30010589, 0.33290477, 0.41477544],\n",
       "         [0.2088168 , 0.89423626, 0.71807867, 0.62725403],\n",
       "         [0.18139793, 0.21935556, 0.20940519, 0.5253739 ],\n",
       "         [0.59732918, 0.85962895, 0.70494521, 0.37269953]],\n",
       "\n",
       "        [[0.1903839 , 0.67598831, 0.68856983, 0.56927425],\n",
       "         [0.48286552, 0.48207108, 0.52190037, 0.89890792],\n",
       "         [0.43289443, 0.23173085, 0.44708407, 0.92049129],\n",
       "         [0.82871042, 0.30324581, 0.56983626, 0.88553242]],\n",
       "\n",
       "        [[0.07081599, 0.39677202, 0.77155616, 0.85397142],\n",
       "         [0.56389999, 0.90948245, 0.57156825, 0.23756049],\n",
       "         [0.14747711, 0.41749814, 0.64612956, 0.70368895],\n",
       "         [0.94090765, 0.88526266, 0.95659569, 0.70067637]],\n",
       "\n",
       "        [[0.21949762, 0.95280912, 0.64247216, 0.94801212],\n",
       "         [0.66830797, 0.09497589, 0.24011574, 0.59534269],\n",
       "         [0.7255734 , 0.70681234, 0.91301492, 0.79481186],\n",
       "         [0.40800018, 0.69648255, 0.77424939, 0.99497919]]],\n",
       "\n",
       "\n",
       "       [[[0.66291599, 0.76548786, 0.23655273, 0.57999399],\n",
       "         [0.2866987 , 0.30977938, 0.41144736, 0.41267726],\n",
       "         [0.81225556, 0.91065365, 0.00844577, 0.44889344],\n",
       "         [0.77707046, 0.3668554 , 0.60806288, 0.24233672]],\n",
       "\n",
       "        [[0.96634795, 0.63215314, 0.09653228, 0.08153107],\n",
       "         [0.71982466, 0.84339181, 0.8294547 , 0.57984628],\n",
       "         [0.75295556, 0.17243057, 0.89398435, 0.01458883],\n",
       "         [0.56968849, 0.6940962 , 0.80859968, 0.67287765]],\n",
       "\n",
       "        [[0.90988032, 0.30678479, 0.18898124, 0.17453862],\n",
       "         [0.70699511, 0.15192327, 0.34584707, 0.77439617],\n",
       "         [0.15888609, 0.61874694, 0.78782435, 0.91577235],\n",
       "         [0.85537756, 0.69241372, 0.04805184, 0.50373361]],\n",
       "\n",
       "        [[0.21127931, 0.67794626, 0.44030509, 0.08110772],\n",
       "         [0.13084036, 0.85085862, 0.05270467, 0.20223431],\n",
       "         [0.05294117, 0.1097585 , 0.61763618, 0.23036369],\n",
       "         [0.17880066, 0.79787909, 0.87747268, 0.08928782]]],\n",
       "\n",
       "\n",
       "       [[[0.01760397, 0.53420894, 0.2401961 , 0.87936986],\n",
       "         [0.25459139, 0.99181138, 0.61321436, 0.44017136],\n",
       "         [0.30975465, 0.00393088, 0.17679089, 0.60761171],\n",
       "         [0.52174145, 0.38500207, 0.33224695, 0.2256549 ]],\n",
       "\n",
       "        [[0.3657682 , 0.87514786, 0.19915043, 0.03003224],\n",
       "         [0.14432838, 0.0426386 , 0.86570801, 0.24271667],\n",
       "         [0.96223226, 0.42759442, 0.04354233, 0.58005176],\n",
       "         [0.31952989, 0.08879656, 0.66732856, 0.08283902]],\n",
       "\n",
       "        [[0.55410537, 0.61282771, 0.8963253 , 0.45731724],\n",
       "         [0.82386705, 0.61681604, 0.74092308, 0.35515097],\n",
       "         [0.75511477, 0.08107394, 0.10844082, 0.45345436],\n",
       "         [0.70334394, 0.11835923, 0.03781818, 0.38945169]],\n",
       "\n",
       "        [[0.69721887, 0.42800059, 0.49927382, 0.27465111],\n",
       "         [0.81393783, 0.56029554, 0.70459349, 0.43299285],\n",
       "         [0.95094689, 0.20273335, 0.72301153, 0.54843842],\n",
       "         [0.97648129, 0.50755203, 0.69700387, 0.99408736]]],\n",
       "\n",
       "\n",
       "       [[[0.13334142, 0.39917449, 0.02784381, 0.30091271],\n",
       "         [0.5384027 , 0.16113986, 0.30026061, 0.49332464],\n",
       "         [0.25244795, 0.36876569, 0.71816514, 0.89453335],\n",
       "         [0.6936017 , 0.35438877, 0.64684515, 0.82176971]],\n",
       "\n",
       "        [[0.72343197, 0.35938179, 0.08935251, 0.92223314],\n",
       "         [0.64600387, 0.63647939, 0.93778562, 0.18895033],\n",
       "         [0.65920495, 0.38836073, 0.27748048, 0.29042982],\n",
       "         [0.94728149, 0.65375834, 0.17265445, 0.89465014]],\n",
       "\n",
       "        [[0.49818772, 0.95729159, 0.94234192, 0.00263444],\n",
       "         [0.14634976, 0.39402652, 0.44502812, 0.39252955],\n",
       "         [0.39685892, 0.92650624, 0.16667465, 0.99535058],\n",
       "         [0.91067595, 0.58178952, 0.63666193, 0.56744642]],\n",
       "\n",
       "        [[0.74561676, 0.32185229, 0.84371495, 0.258919  ],\n",
       "         [0.01389883, 0.13405114, 0.05996565, 0.0730937 ],\n",
       "         [0.16550836, 0.81844116, 0.14341518, 0.14632989],\n",
       "         [0.43538602, 0.53612687, 0.52134066, 0.17001401]]]])"
      ]
     },
     "execution_count": 57,
     "metadata": {},
     "output_type": "execute_result"
    }
   ],
   "source": [
    "# Creating two or three dimensional arrays of random numbers\n",
    "third_rand_arr = np.random.rand(4,4,4,4)\n",
    "third_rand_arr"
   ]
  },
  {
   "cell_type": "code",
   "execution_count": 58,
   "id": "af8a5bfc",
   "metadata": {},
   "outputs": [
    {
     "data": {
      "text/plain": [
       "3"
      ]
     },
     "execution_count": 58,
     "metadata": {},
     "output_type": "execute_result"
    }
   ],
   "source": [
    "three_d_arr.ndim"
   ]
  },
  {
   "cell_type": "markdown",
   "id": "dd1cb72b",
   "metadata": {},
   "source": [
    "## Creating arrays filled with constant values"
   ]
  },
  {
   "cell_type": "code",
   "execution_count": 59,
   "id": "68e57f25",
   "metadata": {},
   "outputs": [
    {
     "data": {
      "text/plain": [
       "array([0., 0., 0., 0., 0.])"
      ]
     },
     "execution_count": 59,
     "metadata": {},
     "output_type": "execute_result"
    }
   ],
   "source": [
    "z_arr = np.zeros(5) # creating an array with five zeros\n",
    "z_arr"
   ]
  },
  {
   "cell_type": "code",
   "execution_count": 60,
   "id": "8ba61446",
   "metadata": {},
   "outputs": [
    {
     "data": {
      "text/plain": [
       "array([[0., 0., 0., 0., 0.],\n",
       "       [0., 0., 0., 0., 0.],\n",
       "       [0., 0., 0., 0., 0.],\n",
       "       [0., 0., 0., 0., 0.]])"
      ]
     },
     "execution_count": 60,
     "metadata": {},
     "output_type": "execute_result"
    }
   ],
   "source": [
    "# Creating zeros arrays specifying the rows and columns\n",
    "z_arr_rows_cols = np.zeros((4,5))\n",
    "z_arr_rows_cols"
   ]
  },
  {
   "cell_type": "code",
   "execution_count": 61,
   "id": "54a9339b",
   "metadata": {},
   "outputs": [
    {
     "data": {
      "text/plain": [
       "array([1., 1., 1., 1., 1.])"
      ]
     },
     "execution_count": 61,
     "metadata": {},
     "output_type": "execute_result"
    }
   ],
   "source": [
    "ones_arr = np.ones(5) # creating an array with five ones (same as zeros)\n",
    "ones_arr"
   ]
  },
  {
   "cell_type": "code",
   "execution_count": 62,
   "id": "42fab78e",
   "metadata": {},
   "outputs": [
    {
     "data": {
      "text/plain": [
       "array([[1, 1, 1, 1, 1],\n",
       "       [1, 1, 1, 1, 1],\n",
       "       [1, 1, 1, 1, 1],\n",
       "       [1, 1, 1, 1, 1]])"
      ]
     },
     "execution_count": 62,
     "metadata": {},
     "output_type": "execute_result"
    }
   ],
   "source": [
    "ones_arr_rows_cols = np.ones((4,5), dtype=int)\n",
    "ones_arr_rows_cols"
   ]
  },
  {
   "cell_type": "code",
   "execution_count": 63,
   "id": "fea1639e",
   "metadata": {},
   "outputs": [
    {
     "data": {
      "text/plain": [
       "array([12, 12, 12, 12, 12, 12, 12, 12, 12, 12])"
      ]
     },
     "execution_count": 63,
     "metadata": {},
     "output_type": "execute_result"
    }
   ],
   "source": [
    "# Using the fill function\n",
    "fill_arr = np.empty(10, dtype=int) # creating an empty array with 10 spaces\n",
    "fill_arr.fill(12) # filling the empty spaces with \"12\"\n",
    "fill_arr"
   ]
  },
  {
   "cell_type": "code",
   "execution_count": 64,
   "id": "5ae41646",
   "metadata": {},
   "outputs": [
    {
     "data": {
      "text/plain": [
       "array([10, 10, 10, 10, 10])"
      ]
     },
     "execution_count": 64,
     "metadata": {},
     "output_type": "execute_result"
    }
   ],
   "source": [
    "# Using the full function\n",
    "full_arr = np.full(5, 10) # creates an array of 5 elements of 10's\n",
    "full_arr"
   ]
  },
  {
   "cell_type": "code",
   "execution_count": 65,
   "id": "ec010b5f",
   "metadata": {},
   "outputs": [
    {
     "data": {
      "text/plain": [
       "array([[8, 8, 8, 8],\n",
       "       [8, 8, 8, 8],\n",
       "       [8, 8, 8, 8],\n",
       "       [8, 8, 8, 8]])"
      ]
     },
     "execution_count": 65,
     "metadata": {},
     "output_type": "execute_result"
    }
   ],
   "source": [
    "full_rc_arr = np.full((4, 4), 8, dtype=int)\n",
    "full_rc_arr"
   ]
  },
  {
   "cell_type": "code",
   "execution_count": 66,
   "id": "af9514bc",
   "metadata": {},
   "outputs": [
    {
     "data": {
      "text/plain": [
       "(4, 4)"
      ]
     },
     "execution_count": 66,
     "metadata": {},
     "output_type": "execute_result"
    }
   ],
   "source": [
    "# Shape\n",
    "full_rc_arr.shape\n"
   ]
  },
  {
   "cell_type": "code",
   "execution_count": 67,
   "id": "73b2a909",
   "metadata": {},
   "outputs": [
    {
     "data": {
      "text/plain": [
       "16"
      ]
     },
     "execution_count": 67,
     "metadata": {},
     "output_type": "execute_result"
    }
   ],
   "source": [
    "# Size\n",
    "np.size(full_rc_arr)"
   ]
  },
  {
   "cell_type": "code",
   "execution_count": null,
   "id": "d58ef1df",
   "metadata": {},
   "outputs": [],
   "source": []
  }
 ],
 "metadata": {
  "kernelspec": {
   "display_name": "Python 3 (ipykernel)",
   "language": "python",
   "name": "python3"
  },
  "language_info": {
   "codemirror_mode": {
    "name": "ipython",
    "version": 3
   },
   "file_extension": ".py",
   "mimetype": "text/x-python",
   "name": "python",
   "nbconvert_exporter": "python",
   "pygments_lexer": "ipython3",
   "version": "3.11.5"
  }
 },
 "nbformat": 4,
 "nbformat_minor": 5
}
